{
 "cells": [
  {
   "cell_type": "code",
   "execution_count": 2,
   "metadata": {},
   "outputs": [],
   "source": [
    "import sys\n",
    "sys.path.append('../')\n",
    "import pandas as pd\n",
    "from itertools import product\n",
    "from game.Bankgames import *\n",
    "from game.distributions import TruncatedGaussian, PiecewiseUniform"
   ]
  },
  {
   "cell_type": "code",
   "execution_count": 8,
   "metadata": {},
   "outputs": [
    {
     "name": "stdout",
     "output_type": "stream",
     "text": [
      "      mu  sigma  gamma_l  gamma_m  gamma_h\n",
      "0    0.1    0.1      0.1      0.2      0.3\n",
      "1    0.1    0.2      0.1      0.2      0.3\n",
      "2    0.1    0.3      0.1      0.2      0.3\n",
      "3    0.1    0.4      0.1      0.2      0.3\n",
      "4    0.2    0.1      0.1      0.2      0.3\n",
      "..   ...    ...      ...      ...      ...\n",
      "315  0.6    0.4      0.7      0.8      0.9\n",
      "316  0.8    0.1      0.7      0.8      0.9\n",
      "317  0.8    0.2      0.7      0.8      0.9\n",
      "318  0.8    0.3      0.7      0.8      0.9\n",
      "319  0.8    0.4      0.7      0.8      0.9\n",
      "\n",
      "[320 rows x 5 columns]\n"
     ]
    }
   ],
   "source": [
    "from itertools import product\n",
    "import pandas as pd\n",
    "\n",
    "def get_instances_3gamma():\n",
    "    # Define values for gamma, mu, and sigma\n",
    "    gamma_values = [0.1, 0.2, 0.3, 0.7, 0.8, 0.9]\n",
    "    mu_values = [0.1, 0.2, 0.6, 0.8]\n",
    "    sigma_values = [0.1, 0.2, 0.3, 0.4]\n",
    "    \n",
    "    data = []\n",
    "    \n",
    "    # Iterate over all combinations of gamma_l, gamma_m, gamma_h (gamma_l < gamma_m < gamma_h)\n",
    "    for gamma_l, gamma_m, gamma_h, mu, sigma in product(gamma_values, gamma_values, gamma_values, mu_values, sigma_values):\n",
    "        if gamma_l < gamma_m < gamma_h:  # Ensure gamma_l < gamma_m < gamma_h\n",
    "            taus = sorted([1 / (2 + gamma) for gamma in [gamma_l, gamma_m, gamma_h]])\n",
    "            data.append((mu, sigma, gamma_l, gamma_m, gamma_h))\n",
    "    \n",
    "    # Create a DataFrame and sort by 'sign_pair'\n",
    "    df = pd.DataFrame(data, columns=[\"mu\", \"sigma\", \"gamma_l\", \"gamma_m\", \"gamma_h\"])\n",
    "    return df\n",
    "\n",
    "# Run the search and get the sorted DataFrame for 3_gamma\n",
    "df = get_instances_3gamma()\n",
    "print(df)"
   ]
  },
  {
   "cell_type": "code",
   "execution_count": null,
   "metadata": {},
   "outputs": [],
   "source": []
  }
 ],
 "metadata": {
  "kernelspec": {
   "display_name": "Python (bankgame)",
   "language": "python",
   "name": "bankgame"
  },
  "language_info": {
   "codemirror_mode": {
    "name": "ipython",
    "version": 3
   },
   "file_extension": ".py",
   "mimetype": "text/x-python",
   "name": "python",
   "nbconvert_exporter": "python",
   "pygments_lexer": "ipython3",
   "version": "3.11.11"
  },
  "vscode": {
   "interpreter": {
    "hash": "266714564d287a5ccf551f1c49cb92f478e0e67d6169a7e8bcdbbd98abecb5aa"
   }
  }
 },
 "nbformat": 4,
 "nbformat_minor": 2
}
