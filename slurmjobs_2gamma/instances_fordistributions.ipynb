{
 "cells": [
  {
   "cell_type": "code",
   "execution_count": 6,
   "metadata": {},
   "outputs": [],
   "source": [
    "import sys\n",
    "sys.path.append('../')\n",
    "import pandas as pd\n",
    "from itertools import product\n",
    "from game.Bankgames import GameTrueMatrix2by2\n",
    "from game.distributions import TruncatedGaussian, PiecewiseUniform\n",
    "from collections import Counter"
   ]
  },
  {
   "cell_type": "code",
   "execution_count": 13,
   "metadata": {},
   "outputs": [
    {
     "name": "stdout",
     "output_type": "stream",
     "text": [
      "     sign_pair   mu  sigma  gamma_l  gamma_h\n",
      "0           ++  0.1    0.1      0.1      0.2\n",
      "1           ++  0.4    0.1      0.1      0.8\n",
      "2           ++  0.1    0.2      0.1      0.9\n",
      "3           ++  0.2    0.2      0.2      0.8\n",
      "4           ++  0.1    0.1      0.1      0.4\n",
      "...        ...  ...    ...      ...      ...\n",
      "1210        --  0.3    0.3      0.2      0.5\n",
      "1211        --  0.3    0.4      0.2      0.5\n",
      "1212        --  0.3    0.5      0.2      0.5\n",
      "1213        --  0.1    0.8      0.2      0.5\n",
      "1214        --  0.9    0.9      0.8      0.9\n",
      "\n",
      "[1215 rows x 5 columns]\n"
     ]
    }
   ],
   "source": [
    "def search_eps_signs():\n",
    "    gamma_values = [0.1, 0.2, 0.4, 0.5, 0.8, 0.9]\n",
    "#     gamma_values = [0.1, 0.2, 0.3, 0.7, 0.8, 0.9]\n",
    "    mu_values = [0.1, 0.2, 0.3, 0.4, 0.5, 0.6, 0.7, 0.8, 0.9]\n",
    "    sigma_values = [0.1, 0.2, 0.3, 0.4, 0.5, 0.6, 0.7, 0.8, 0.9]\n",
    "    \n",
    "    data = []\n",
    "    \n",
    "    # Iterate over all possible combinations\n",
    "    for gamma_l, gamma_h, mu, sigma in product(gamma_values, gamma_values, mu_values, sigma_values):\n",
    "        if gamma_l >= gamma_h:  # Ensure gamma_l < gamma_h\n",
    "            continue\n",
    "        \n",
    "        taus = sorted([1 / (2 + gamma) for gamma in [gamma_l, gamma_h]])\n",
    "        tg = TruncatedGaussian(mu=mu, sigma=sigma)\n",
    "        gtm = GameTrueMatrix2by2(gammas=[gamma_l, gamma_h], taus=taus, dist=tg)\n",
    "        \n",
    "        sign_pair = gtm.eps_case  # Sign string either ++, -+, +- or --\n",
    "        \n",
    "        # Append data\n",
    "        data.append((sign_pair, mu, sigma, gamma_l, gamma_h))\n",
    "    \n",
    "    # Create a DataFrame and sort by sign_pair\n",
    "    df = pd.DataFrame(data, columns=[\"sign_pair\", \"mu\", \"sigma\", \"gamma_l\", \"gamma_h\"])\n",
    "    df_sorted = df.sort_values(by=\"sign_pair\", ascending=True).reset_index(drop=True)\n",
    "    \n",
    "    return df_sorted\n",
    "\n",
    "# Run the search and get the sorted DataFrame\n",
    "df_result = search_eps_signs()\n",
    "print(df_result)"
   ]
  },
  {
   "cell_type": "code",
   "execution_count": 14,
   "metadata": {},
   "outputs": [
    {
     "data": {
      "text/plain": [
       "Counter({'--': 982, '+-': 177, '++': 56})"
      ]
     },
     "execution_count": 14,
     "metadata": {},
     "output_type": "execute_result"
    }
   ],
   "source": [
    "Counter(df_result['sign_pair'])"
   ]
  },
  {
   "cell_type": "code",
   "execution_count": 16,
   "metadata": {},
   "outputs": [
    {
     "data": {
      "text/html": [
       "<div>\n",
       "<style scoped>\n",
       "    .dataframe tbody tr th:only-of-type {\n",
       "        vertical-align: middle;\n",
       "    }\n",
       "\n",
       "    .dataframe tbody tr th {\n",
       "        vertical-align: top;\n",
       "    }\n",
       "\n",
       "    .dataframe thead th {\n",
       "        text-align: right;\n",
       "    }\n",
       "</style>\n",
       "<table border=\"1\" class=\"dataframe\">\n",
       "  <thead>\n",
       "    <tr style=\"text-align: right;\">\n",
       "      <th></th>\n",
       "      <th>sign_pair</th>\n",
       "      <th>mu</th>\n",
       "      <th>sigma</th>\n",
       "      <th>gamma_l</th>\n",
       "      <th>gamma_h</th>\n",
       "    </tr>\n",
       "  </thead>\n",
       "  <tbody>\n",
       "    <tr>\n",
       "      <th>56</th>\n",
       "      <td>+-</td>\n",
       "      <td>0.7</td>\n",
       "      <td>0.3</td>\n",
       "      <td>0.1</td>\n",
       "      <td>0.8</td>\n",
       "    </tr>\n",
       "    <tr>\n",
       "      <th>57</th>\n",
       "      <td>+-</td>\n",
       "      <td>0.2</td>\n",
       "      <td>0.8</td>\n",
       "      <td>0.1</td>\n",
       "      <td>0.9</td>\n",
       "    </tr>\n",
       "    <tr>\n",
       "      <th>58</th>\n",
       "      <td>+-</td>\n",
       "      <td>0.7</td>\n",
       "      <td>0.2</td>\n",
       "      <td>0.1</td>\n",
       "      <td>0.8</td>\n",
       "    </tr>\n",
       "    <tr>\n",
       "      <th>59</th>\n",
       "      <td>+-</td>\n",
       "      <td>0.2</td>\n",
       "      <td>0.9</td>\n",
       "      <td>0.1</td>\n",
       "      <td>0.9</td>\n",
       "    </tr>\n",
       "    <tr>\n",
       "      <th>60</th>\n",
       "      <td>+-</td>\n",
       "      <td>0.7</td>\n",
       "      <td>0.1</td>\n",
       "      <td>0.1</td>\n",
       "      <td>0.8</td>\n",
       "    </tr>\n",
       "    <tr>\n",
       "      <th>...</th>\n",
       "      <td>...</td>\n",
       "      <td>...</td>\n",
       "      <td>...</td>\n",
       "      <td>...</td>\n",
       "      <td>...</td>\n",
       "    </tr>\n",
       "    <tr>\n",
       "      <th>228</th>\n",
       "      <td>+-</td>\n",
       "      <td>0.4</td>\n",
       "      <td>0.2</td>\n",
       "      <td>0.1</td>\n",
       "      <td>0.5</td>\n",
       "    </tr>\n",
       "    <tr>\n",
       "      <th>229</th>\n",
       "      <td>+-</td>\n",
       "      <td>0.1</td>\n",
       "      <td>0.3</td>\n",
       "      <td>0.1</td>\n",
       "      <td>0.5</td>\n",
       "    </tr>\n",
       "    <tr>\n",
       "      <th>230</th>\n",
       "      <td>+-</td>\n",
       "      <td>0.2</td>\n",
       "      <td>0.1</td>\n",
       "      <td>0.1</td>\n",
       "      <td>0.2</td>\n",
       "    </tr>\n",
       "    <tr>\n",
       "      <th>231</th>\n",
       "      <td>+-</td>\n",
       "      <td>0.5</td>\n",
       "      <td>0.1</td>\n",
       "      <td>0.1</td>\n",
       "      <td>0.4</td>\n",
       "    </tr>\n",
       "    <tr>\n",
       "      <th>232</th>\n",
       "      <td>+-</td>\n",
       "      <td>0.3</td>\n",
       "      <td>0.2</td>\n",
       "      <td>0.1</td>\n",
       "      <td>0.5</td>\n",
       "    </tr>\n",
       "  </tbody>\n",
       "</table>\n",
       "<p>177 rows × 5 columns</p>\n",
       "</div>"
      ],
      "text/plain": [
       "    sign_pair   mu  sigma  gamma_l  gamma_h\n",
       "56         +-  0.7    0.3      0.1      0.8\n",
       "57         +-  0.2    0.8      0.1      0.9\n",
       "58         +-  0.7    0.2      0.1      0.8\n",
       "59         +-  0.2    0.9      0.1      0.9\n",
       "60         +-  0.7    0.1      0.1      0.8\n",
       "..        ...  ...    ...      ...      ...\n",
       "228        +-  0.4    0.2      0.1      0.5\n",
       "229        +-  0.1    0.3      0.1      0.5\n",
       "230        +-  0.2    0.1      0.1      0.2\n",
       "231        +-  0.5    0.1      0.1      0.4\n",
       "232        +-  0.3    0.2      0.1      0.5\n",
       "\n",
       "[177 rows x 5 columns]"
      ]
     },
     "execution_count": 16,
     "metadata": {},
     "output_type": "execute_result"
    }
   ],
   "source": [
    "df_result[df_result['sign_pair'] == '+-']"
   ]
  },
  {
   "cell_type": "code",
   "execution_count": 11,
   "metadata": {},
   "outputs": [],
   "source": [
    "cols = ['mu', 'sigma', 'gamma_l', 'gamma_h']\n",
    "df_result[df_result['sign_pair'] == '+-'][cols].to_csv(\"tg_pm_instances_bigger.csv\", index=False, header=False)"
   ]
  },
  {
   "cell_type": "code",
   "execution_count": 19,
   "metadata": {},
   "outputs": [],
   "source": [
    "df_result[['mu', 'sigma', 'gamma_l', 'gamma_h']].to_csv(\"tg_instances_slurm.csv\", index=False, header=False)"
   ]
  },
  {
   "cell_type": "code",
   "execution_count": 20,
   "metadata": {},
   "outputs": [
    {
     "data": {
      "text/plain": [
       "sign_pair\n",
       "--    157\n",
       "+-     47\n",
       "++     36\n",
       "Name: count, dtype: int64"
      ]
     },
     "execution_count": 20,
     "metadata": {},
     "output_type": "execute_result"
    }
   ],
   "source": [
    "df_result[\"sign_pair\"].value_counts()"
   ]
  },
  {
   "cell_type": "code",
   "execution_count": 15,
   "metadata": {},
   "outputs": [
    {
     "name": "stdout",
     "output_type": "stream",
     "text": [
      "   sign_pair  gamma_l  gamma_h\n",
      "0         ++      0.1      0.2\n",
      "1         ++      0.6      0.9\n",
      "2         ++      0.6      0.8\n",
      "3         ++      0.5      0.9\n",
      "4         ++      0.5      0.8\n",
      "5         ++      0.5      0.7\n",
      "6         ++      0.4      0.9\n",
      "7         ++      0.4      0.8\n",
      "8         ++      0.4      0.7\n",
      "9         ++      0.4      0.6\n",
      "10        ++      0.3      0.9\n",
      "11        ++      0.3      0.8\n",
      "12        ++      0.3      0.7\n",
      "13        ++      0.7      0.9\n",
      "14        ++      0.3      0.5\n",
      "15        ++      0.3      0.6\n",
      "16        ++      0.2      0.9\n",
      "17        ++      0.1      0.3\n",
      "18        ++      0.1      0.4\n",
      "19        ++      0.1      0.5\n",
      "20        ++      0.1      0.6\n",
      "21        ++      0.1      0.7\n",
      "22        ++      0.1      0.9\n",
      "23        ++      0.1      0.8\n",
      "24        ++      0.2      0.4\n",
      "25        ++      0.2      0.5\n",
      "26        ++      0.2      0.6\n",
      "27        ++      0.2      0.7\n",
      "28        ++      0.2      0.8\n",
      "29        ++      0.2      0.3\n",
      "30        -+      0.3      0.4\n",
      "31        -+      0.5      0.6\n",
      "32        -+      0.4      0.5\n",
      "33        -+      0.6      0.7\n",
      "34        -+      0.7      0.8\n",
      "35        --      0.8      0.9\n"
     ]
    }
   ],
   "source": [
    "import sys\n",
    "sys.path.append('../')\n",
    "import pandas as pd\n",
    "from itertools import product\n",
    "from game.Bankgames import GameTrueMatrix2by2\n",
    "from game.distributions import TruncatedGaussian\n",
    "\n",
    "def search_eps_signs():\n",
    "    gamma_values = [0.1, 0.2, 0.3, 0.4, 0.5, 0.6, 0.7, 0.8, 0.9]\n",
    "    data = []\n",
    "    for gamma_l, gamma_h in product(gamma_values, gamma_values):\n",
    "        if gamma_l >= gamma_h:  # Ensure gamma_l < gamma_h\n",
    "            continue\n",
    "        \n",
    "        taus = sorted([1 / (2 + gamma) for gamma in [gamma_l, gamma_h]])\n",
    "        puf = PiecewiseUniform(ga_l = gamma_l, ga_h=gamma_h)\n",
    "        gtm = GameTrueMatrix2by2(gammas=[gamma_l, gamma_h], taus=taus, dist=puf)\n",
    "        \n",
    "        sign_pair = gtm.eps_case  # Sign string either ++, -+, +- or --\n",
    "        \n",
    "        # Append data\n",
    "        data.append((sign_pair, gamma_l, gamma_h))\n",
    "    \n",
    "    # Create a DataFrame and sort by sign_pair\n",
    "    df = pd.DataFrame(data, columns=[\"sign_pair\", \"gamma_l\", \"gamma_h\"])\n",
    "    df_sorted = df.sort_values(by=\"sign_pair\", ascending=True).reset_index(drop=True)\n",
    "    \n",
    "    return df_sorted\n",
    "\n",
    "# Run the search and get the sorted DataFrame\n",
    "df_result = search_eps_signs()\n",
    "print(df_result)"
   ]
  },
  {
   "cell_type": "code",
   "execution_count": 16,
   "metadata": {},
   "outputs": [
    {
     "data": {
      "text/plain": [
       "sign_pair\n",
       "++    30\n",
       "-+     5\n",
       "--     1\n",
       "Name: count, dtype: int64"
      ]
     },
     "execution_count": 16,
     "metadata": {},
     "output_type": "execute_result"
    }
   ],
   "source": [
    "df_result[\"sign_pair\"].value_counts()"
   ]
  },
  {
   "cell_type": "code",
   "execution_count": 17,
   "metadata": {},
   "outputs": [],
   "source": [
    "df_result[['gamma_l', 'gamma_h']].to_csv(\"puf_instances_slurm.csv\", index=False, header=False)"
   ]
  },
  {
   "cell_type": "code",
   "execution_count": null,
   "metadata": {},
   "outputs": [],
   "source": []
  }
 ],
 "metadata": {
  "kernelspec": {
   "display_name": "Python (bankgame)",
   "language": "python",
   "name": "bankgame"
  },
  "language_info": {
   "codemirror_mode": {
    "name": "ipython",
    "version": 3
   },
   "file_extension": ".py",
   "mimetype": "text/x-python",
   "name": "python",
   "nbconvert_exporter": "python",
   "pygments_lexer": "ipython3",
   "version": "3.11.11"
  },
  "vscode": {
   "interpreter": {
    "hash": "266714564d287a5ccf551f1c49cb92f478e0e67d6169a7e8bcdbbd98abecb5aa"
   }
  }
 },
 "nbformat": 4,
 "nbformat_minor": 2
}
