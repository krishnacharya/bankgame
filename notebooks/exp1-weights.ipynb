{
 "cells": [
  {
   "cell_type": "code",
   "execution_count": 1,
   "metadata": {},
   "outputs": [],
   "source": [
    "# 4 actions [2 tau, 2gamms]\n",
    "\n",
    "# x axis - round number, y axis probability weight, 4 curves one for each action\n",
    "# Curves for GameTrue will be in solids, # GameFreshEstimate dashed\n",
    "\n"
   ]
  },
  {
   "cell_type": "code",
   "execution_count": 2,
   "metadata": {},
   "outputs": [],
   "source": [
    "import sys\n",
    "sys.path.append('../')"
   ]
  },
  {
   "cell_type": "code",
   "execution_count": 3,
   "metadata": {},
   "outputs": [],
   "source": [
    "from game.Bankgames import *\n",
    "from game.distributions import *"
   ]
  },
  {
   "cell_type": "code",
   "execution_count": 4,
   "metadata": {},
   "outputs": [],
   "source": [
    "gammas = [0.5, 0.6]\n",
    "taus = sorted([1/(2+ga) for ga in gammas])\n",
    "\n",
    "tg = TruncatedGaussian(mu = 0.6, sigma = 0.2)"
   ]
  },
  {
   "cell_type": "code",
   "execution_count": 5,
   "metadata": {},
   "outputs": [],
   "source": [
    "gtm = GameTrueMatrix(gammas=gammas, taus=taus, dist = tg)"
   ]
  },
  {
   "cell_type": "code",
   "execution_count": 6,
   "metadata": {},
   "outputs": [],
   "source": [
    "T = 10000\n",
    "eta = 1\n",
    "p_b1 = np.array([0.1, 0.5, 0.3, 0.1])\n",
    "p_b2 = np.array([0.1, 0.5, 0.3, 0.1])\n",
    "\n",
    "b1_rec_true, b2_rec_true = gtm.run_hedge(T=T, p_b1 = p_b1, p_b2 = p_b2, eta = 1)"
   ]
  },
  {
   "cell_type": "code",
   "execution_count": 10,
   "metadata": {},
   "outputs": [
    {
     "data": {
      "text/plain": [
       "array([1.17678918e-002, 9.88131292e-324, 9.88232108e-001, 9.88131292e-324])"
      ]
     },
     "execution_count": 10,
     "metadata": {},
     "output_type": "execute_result"
    }
   ],
   "source": [
    "b1_rec_true[-1]"
   ]
  },
  {
   "cell_type": "code",
   "execution_count": 7,
   "metadata": {},
   "outputs": [],
   "source": [
    "num_samples = 10 # 10 per iteration\n",
    "gfe = GameFreshEstimate(gammas=gammas, taus=taus, num_samples=num_samples,  dist = tg)"
   ]
  },
  {
   "cell_type": "code",
   "execution_count": 8,
   "metadata": {},
   "outputs": [],
   "source": [
    "T = 10000\n",
    "eta = 1\n",
    "p_b1 = np.array([0.1, 0.5, 0.3, 0.1])\n",
    "p_b2 = np.array([0.1, 0.5, 0.3, 0.1])\n",
    "\n",
    "b1_rec_est, b2_rec_est = gfe.run_hedge(T=T, p_b1 = p_b1, p_b2 = p_b2, eta = 1)"
   ]
  },
  {
   "cell_type": "code",
   "execution_count": 9,
   "metadata": {},
   "outputs": [
    {
     "data": {
      "text/plain": [
       "array([1.16684236e-002, 4.94065646e-324, 9.88331576e-001, 4.94065646e-324])"
      ]
     },
     "execution_count": 9,
     "metadata": {},
     "output_type": "execute_result"
    }
   ],
   "source": [
    "b1_rec_est[-1]"
   ]
  },
  {
   "cell_type": "code",
   "execution_count": null,
   "metadata": {},
   "outputs": [],
   "source": []
  }
 ],
 "metadata": {
  "kernelspec": {
   "display_name": "Python (bankgame)",
   "language": "python",
   "name": "bankgame"
  },
  "language_info": {
   "codemirror_mode": {
    "name": "ipython",
    "version": 3
   },
   "file_extension": ".py",
   "mimetype": "text/x-python",
   "name": "python",
   "nbconvert_exporter": "python",
   "pygments_lexer": "ipython3",
   "version": "3.11.11"
  },
  "vscode": {
   "interpreter": {
    "hash": "5c7b89af1651d0b8571dde13640ecdccf7d5a6204171d6ab33e7c296e100e08a"
   }
  }
 },
 "nbformat": 4,
 "nbformat_minor": 2
}
