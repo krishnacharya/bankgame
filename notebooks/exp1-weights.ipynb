{
 "cells": [
  {
   "cell_type": "code",
   "execution_count": null,
   "metadata": {},
   "outputs": [],
   "source": [
    "# 4 actions [2 tau, 2gamms]\n",
    "\n",
    "# x axis - round number, y axis probability weight, 4 curves one for each action\n",
    "# Curves for GameTrue will be in solids, # GameFreshEstimate dashed\n",
    "\n"
   ]
  },
  {
   "cell_type": "code",
   "execution_count": 1,
   "metadata": {},
   "outputs": [],
   "source": [
    "import sys\n",
    "sys.path.append('../')"
   ]
  },
  {
   "cell_type": "code",
   "execution_count": 2,
   "metadata": {},
   "outputs": [],
   "source": [
    "from game.Bankgames import *\n",
    "from game.distributions import *"
   ]
  },
  {
   "cell_type": "code",
   "execution_count": 3,
   "metadata": {},
   "outputs": [],
   "source": [
    "gammas = [0.5, 0.6]\n",
    "taus = sorted([1/(2+ga) for ga in gammas])\n",
    "\n",
    "tg = TruncatedGaussian(mu = 0.6, sigma = 0.2)"
   ]
  },
  {
   "cell_type": "code",
   "execution_count": 4,
   "metadata": {},
   "outputs": [],
   "source": [
    "gtm = GameTrueMatrix(gammas=gammas, taus=taus, dist = tg)"
   ]
  },
  {
   "cell_type": "code",
   "execution_count": 5,
   "metadata": {},
   "outputs": [],
   "source": [
    "T = 10000\n",
    "eta = 1\n",
    "p_b1 = np.array([0.1, 0.5, 0.3, 0.1])\n",
    "p_b2 = np.array([0.1, 0.5, 0.3, 0.1])\n",
    "\n",
    "b1_rec, b2_rec = gtm.run_hedge(T=T, p_b1 = p_b1, p_b2 = p_b2, eta = 1)"
   ]
  },
  {
   "cell_type": "code",
   "execution_count": 6,
   "metadata": {},
   "outputs": [
    {
     "data": {
      "text/plain": [
       "(array([[1.00000000e-001, 5.00000000e-001, 3.00000000e-001,\n",
       "         1.00000000e-001],\n",
       "        [1.14735432e-001, 4.50805201e-001, 3.44320107e-001,\n",
       "         9.01392605e-002],\n",
       "        [1.29856522e-001, 4.00296843e-001, 3.89826234e-001,\n",
       "         8.00204012e-002],\n",
       "        ...,\n",
       "        [1.17759409e-002, 9.88131292e-324, 9.88224059e-001,\n",
       "         9.88131292e-324],\n",
       "        [1.17719156e-002, 9.88131292e-324, 9.88228084e-001,\n",
       "         9.88131292e-324],\n",
       "        [1.17678918e-002, 9.88131292e-324, 9.88232108e-001,\n",
       "         9.88131292e-324]]),\n",
       " array([[1.00000000e-001, 5.00000000e-001, 3.00000000e-001,\n",
       "         1.00000000e-001],\n",
       "        [1.14735432e-001, 4.50805201e-001, 3.44320107e-001,\n",
       "         9.01392605e-002],\n",
       "        [1.29856522e-001, 4.00296843e-001, 3.89826234e-001,\n",
       "         8.00204012e-002],\n",
       "        ...,\n",
       "        [1.17759409e-002, 9.88131292e-324, 9.88224059e-001,\n",
       "         9.88131292e-324],\n",
       "        [1.17719156e-002, 9.88131292e-324, 9.88228084e-001,\n",
       "         9.88131292e-324],\n",
       "        [1.17678918e-002, 9.88131292e-324, 9.88232108e-001,\n",
       "         9.88131292e-324]]))"
      ]
     },
     "execution_count": 6,
     "metadata": {},
     "output_type": "execute_result"
    }
   ],
   "source": [
    "b1_rec, b2_rec "
   ]
  },
  {
   "cell_type": "code",
   "execution_count": 1,
   "metadata": {},
   "outputs": [
    {
     "ename": "NameError",
     "evalue": "name 'GameFreshEstimate' is not defined",
     "output_type": "error",
     "traceback": [
      "\u001b[0;31m---------------------------------------------------------------------------\u001b[0m",
      "\u001b[0;31mNameError\u001b[0m                                 Traceback (most recent call last)",
      "Cell \u001b[0;32mIn[1], line 2\u001b[0m\n\u001b[1;32m      1\u001b[0m num_samples \u001b[38;5;241m=\u001b[39m \u001b[38;5;241m10\u001b[39m \u001b[38;5;66;03m# 10 per iteration\u001b[39;00m\n\u001b[0;32m----> 2\u001b[0m gfe \u001b[38;5;241m=\u001b[39m GameFreshEstimate(gammas\u001b[38;5;241m=\u001b[39mgammas, taus\u001b[38;5;241m=\u001b[39mtaus, num_samples\u001b[38;5;241m=\u001b[39mnum_samples,  dist \u001b[38;5;241m=\u001b[39m tg)\n",
      "\u001b[0;31mNameError\u001b[0m: name 'GameFreshEstimate' is not defined"
     ]
    }
   ],
   "source": [
    "num_samples = 10 # 10 per iteration\n",
    "gfe = GameFreshEstimate(gammas=gammas, taus=taus, num_samples=num_samples,  dist = tg)"
   ]
  },
  {
   "cell_type": "code",
   "execution_count": 21,
   "metadata": {},
   "outputs": [
    {
     "ename": "TypeError",
     "evalue": "'numpy.float64' object cannot be interpreted as an integer",
     "output_type": "error",
     "traceback": [
      "\u001b[0;31m---------------------------------------------------------------------------\u001b[0m",
      "\u001b[0;31mTypeError\u001b[0m                                 Traceback (most recent call last)",
      "Cell \u001b[0;32mIn[21], line 6\u001b[0m\n\u001b[1;32m      3\u001b[0m p_b1 \u001b[38;5;241m=\u001b[39m np\u001b[38;5;241m.\u001b[39marray([\u001b[38;5;241m0.1\u001b[39m, \u001b[38;5;241m0.5\u001b[39m, \u001b[38;5;241m0.3\u001b[39m, \u001b[38;5;241m0.1\u001b[39m])\n\u001b[1;32m      4\u001b[0m p_b2 \u001b[38;5;241m=\u001b[39m np\u001b[38;5;241m.\u001b[39marray([\u001b[38;5;241m0.1\u001b[39m, \u001b[38;5;241m0.5\u001b[39m, \u001b[38;5;241m0.3\u001b[39m, \u001b[38;5;241m0.1\u001b[39m])\n\u001b[0;32m----> 6\u001b[0m b1_rec, b2_rec \u001b[38;5;241m=\u001b[39m gfe\u001b[38;5;241m.\u001b[39mrun_hedge(T\u001b[38;5;241m=\u001b[39mT, p_b1 \u001b[38;5;241m=\u001b[39m p_b1, p_b2 \u001b[38;5;241m=\u001b[39m p_b2, eta \u001b[38;5;241m=\u001b[39m \u001b[38;5;241m1\u001b[39m)\n",
      "File \u001b[0;32m~/Documents/Research/BankGame/bankgame/notebooks/../game/Bankgames.py:62\u001b[0m, in \u001b[0;36mGameFreshEstimate.run_hedge\u001b[0;34m(self, T, p_b1, p_b2, eta)\u001b[0m\n\u001b[1;32m     60\u001b[0m b2_record \u001b[38;5;241m=\u001b[39m [p_b2]\n\u001b[1;32m     61\u001b[0m \u001b[38;5;28;01mfor\u001b[39;00m t \u001b[38;5;129;01min\u001b[39;00m \u001b[38;5;28mrange\u001b[39m(T):\n\u001b[0;32m---> 62\u001b[0m     A_est \u001b[38;5;241m=\u001b[39m \u001b[38;5;28mself\u001b[39m\u001b[38;5;241m.\u001b[39mget_PayoffMat_est()\n\u001b[1;32m     63\u001b[0m     p_b1, p_b2 \u001b[38;5;241m=\u001b[39m HedgeSimultaneous(p_b1, p_b2, eta, A_est)\n\u001b[1;32m     64\u001b[0m     b1_record\u001b[38;5;241m.\u001b[39mappend(p_b1)\n",
      "File \u001b[0;32m~/Documents/Research/BankGame/bankgame/notebooks/../game/Bankgames.py:44\u001b[0m, in \u001b[0;36mGameFreshEstimate.get_PayoffMat_est\u001b[0;34m(self)\u001b[0m\n\u001b[1;32m     43\u001b[0m \u001b[38;5;28;01mdef\u001b[39;00m \u001b[38;5;21mget_PayoffMat_est\u001b[39m(\u001b[38;5;28mself\u001b[39m):\n\u001b[0;32m---> 44\u001b[0m     y_samples \u001b[38;5;241m=\u001b[39m \u001b[38;5;28mself\u001b[39m\u001b[38;5;241m.\u001b[39mdist\u001b[38;5;241m.\u001b[39mget_samples(\u001b[38;5;28mself\u001b[39m\u001b[38;5;241m.\u001b[39mdist\u001b[38;5;241m.\u001b[39mget_samples(\u001b[38;5;28mself\u001b[39m\u001b[38;5;241m.\u001b[39mnum_samples))\n\u001b[1;32m     45\u001b[0m     \u001b[38;5;28;01mreturn\u001b[39;00m matrix_from_samples(y_samples\u001b[38;5;241m=\u001b[39my_samples, gammas\u001b[38;5;241m=\u001b[39m\u001b[38;5;28mself\u001b[39m\u001b[38;5;241m.\u001b[39mgammas, taus\u001b[38;5;241m=\u001b[39m\u001b[38;5;28mself\u001b[39m\u001b[38;5;241m.\u001b[39mtaus)\n",
      "File \u001b[0;32m~/Documents/Research/BankGame/bankgame/notebooks/../game/distributions.py:41\u001b[0m, in \u001b[0;36mTruncatedGaussian.get_samples\u001b[0;34m(self, num_samples)\u001b[0m\n\u001b[1;32m     40\u001b[0m \u001b[38;5;28;01mdef\u001b[39;00m \u001b[38;5;21mget_samples\u001b[39m(\u001b[38;5;28mself\u001b[39m, num_samples: \u001b[38;5;28mint\u001b[39m):\n\u001b[0;32m---> 41\u001b[0m     \u001b[38;5;28;01mreturn\u001b[39;00m truncnorm\u001b[38;5;241m.\u001b[39mrvs(\u001b[38;5;28mself\u001b[39m\u001b[38;5;241m.\u001b[39ma_scaled,\n\u001b[1;32m     42\u001b[0m                          \u001b[38;5;28mself\u001b[39m\u001b[38;5;241m.\u001b[39mb_scaled,\n\u001b[1;32m     43\u001b[0m                          loc\u001b[38;5;241m=\u001b[39m\u001b[38;5;28mself\u001b[39m\u001b[38;5;241m.\u001b[39mmu,\n\u001b[1;32m     44\u001b[0m                          scale\u001b[38;5;241m=\u001b[39m\u001b[38;5;28mself\u001b[39m\u001b[38;5;241m.\u001b[39msigma,\n\u001b[1;32m     45\u001b[0m                          size\u001b[38;5;241m=\u001b[39mnum_samples)\n",
      "File \u001b[0;32m~/opt/anaconda3/envs/bankgame/lib/python3.11/site-packages/scipy/stats/_distn_infrastructure.py:1111\u001b[0m, in \u001b[0;36mrv_generic.rvs\u001b[0;34m(self, *args, **kwds)\u001b[0m\n\u001b[1;32m   1108\u001b[0m \u001b[38;5;28;01melse\u001b[39;00m:\n\u001b[1;32m   1109\u001b[0m     random_state \u001b[38;5;241m=\u001b[39m \u001b[38;5;28mself\u001b[39m\u001b[38;5;241m.\u001b[39m_random_state\n\u001b[0;32m-> 1111\u001b[0m vals \u001b[38;5;241m=\u001b[39m \u001b[38;5;28mself\u001b[39m\u001b[38;5;241m.\u001b[39m_rvs(\u001b[38;5;241m*\u001b[39margs, size\u001b[38;5;241m=\u001b[39msize, random_state\u001b[38;5;241m=\u001b[39mrandom_state)\n\u001b[1;32m   1113\u001b[0m vals \u001b[38;5;241m=\u001b[39m vals \u001b[38;5;241m*\u001b[39m scale \u001b[38;5;241m+\u001b[39m loc\n\u001b[1;32m   1115\u001b[0m \u001b[38;5;66;03m# do not forget to restore the _random_state\u001b[39;00m\n",
      "File \u001b[0;32m~/opt/anaconda3/envs/bankgame/lib/python3.11/site-packages/scipy/stats/_distn_infrastructure.py:1036\u001b[0m, in \u001b[0;36mrv_generic._rvs\u001b[0;34m(self, size, random_state, *args)\u001b[0m\n\u001b[1;32m   1029\u001b[0m \u001b[38;5;28;01mdef\u001b[39;00m \u001b[38;5;21m_rvs\u001b[39m(\u001b[38;5;28mself\u001b[39m, \u001b[38;5;241m*\u001b[39margs, size\u001b[38;5;241m=\u001b[39m\u001b[38;5;28;01mNone\u001b[39;00m, random_state\u001b[38;5;241m=\u001b[39m\u001b[38;5;28;01mNone\u001b[39;00m):\n\u001b[1;32m   1030\u001b[0m     \u001b[38;5;66;03m# This method must handle size being a tuple, and it must\u001b[39;00m\n\u001b[1;32m   1031\u001b[0m     \u001b[38;5;66;03m# properly broadcast *args and size.  size might be\u001b[39;00m\n\u001b[0;32m   (...)\u001b[0m\n\u001b[1;32m   1034\u001b[0m \n\u001b[1;32m   1035\u001b[0m     \u001b[38;5;66;03m# Use basic inverse cdf algorithm for RV generation as default.\u001b[39;00m\n\u001b[0;32m-> 1036\u001b[0m     U \u001b[38;5;241m=\u001b[39m random_state\u001b[38;5;241m.\u001b[39muniform(size\u001b[38;5;241m=\u001b[39msize)\n\u001b[1;32m   1037\u001b[0m     Y \u001b[38;5;241m=\u001b[39m \u001b[38;5;28mself\u001b[39m\u001b[38;5;241m.\u001b[39m_ppf(U, \u001b[38;5;241m*\u001b[39margs)\n\u001b[1;32m   1038\u001b[0m     \u001b[38;5;28;01mreturn\u001b[39;00m Y\n",
      "File \u001b[0;32mnumpy/random/mtrand.pyx:1181\u001b[0m, in \u001b[0;36mnumpy.random.mtrand.RandomState.uniform\u001b[0;34m()\u001b[0m\n",
      "File \u001b[0;32m_common.pyx:657\u001b[0m, in \u001b[0;36mnumpy.random._common.cont\u001b[0;34m()\u001b[0m\n",
      "\u001b[0;31mTypeError\u001b[0m: 'numpy.float64' object cannot be interpreted as an integer"
     ]
    }
   ],
   "source": [
    "T = 10000\n",
    "eta = 1\n",
    "p_b1 = np.array([0.1, 0.5, 0.3, 0.1])\n",
    "p_b2 = np.array([0.1, 0.5, 0.3, 0.1])\n",
    "\n",
    "b1_rec, b2_rec = gfe.run_hedge(T=T, p_b1 = p_b1, p_b2 = p_b2, eta = 1)"
   ]
  },
  {
   "cell_type": "code",
   "execution_count": null,
   "metadata": {},
   "outputs": [],
   "source": []
  }
 ],
 "metadata": {
  "kernelspec": {
   "display_name": "Python (bankgame)",
   "language": "python",
   "name": "bankgame"
  },
  "language_info": {
   "codemirror_mode": {
    "name": "ipython",
    "version": 3
   },
   "file_extension": ".py",
   "mimetype": "text/x-python",
   "name": "python",
   "nbconvert_exporter": "python",
   "pygments_lexer": "ipython3",
   "version": "3.11.11"
  },
  "vscode": {
   "interpreter": {
    "hash": "5c7b89af1651d0b8571dde13640ecdccf7d5a6204171d6ab33e7c296e100e08a"
   }
  }
 },
 "nbformat": 4,
 "nbformat_minor": 2
}
