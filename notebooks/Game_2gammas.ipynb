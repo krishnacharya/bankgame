{
 "cells": [
  {
   "cell_type": "code",
   "execution_count": 3,
   "id": "2bab582d",
   "metadata": {},
   "outputs": [],
   "source": [
    "## Truncated Gaussian Distribution"
   ]
  },
  {
   "cell_type": "code",
   "execution_count": 6,
   "id": "8b31ea1f",
   "metadata": {},
   "outputs": [],
   "source": [
    "import numpy as np\n",
    "import matplotlib.pyplot as plt\n",
    "import sys\n",
    "sys.path.append('../')\n",
    "from game.Bankgames import *\n",
    "from game.plotting import *\n",
    "from game.distributions import TruncatedGaussian, Uniform, PiecewiseUniform\n",
    "import nashpy as nh"
   ]
  },
  {
   "cell_type": "code",
   "execution_count": 7,
   "id": "e7d93dda",
   "metadata": {},
   "outputs": [],
   "source": [
    "# Truncated gaussian\n",
    "tg = TruncatedGaussian()\n",
    "gammas = [0.5, 0.6]\n",
    "\n",
    "taus = [1/(2+gamma) for gamma in gammas]\n",
    "\n",
    "game_tg = GameTrueMatrix2by2(gammas = gammas, taus = taus, dist = tg)"
   ]
  },
  {
   "cell_type": "code",
   "execution_count": 8,
   "id": "edbaf550",
   "metadata": {},
   "outputs": [
    {
     "data": {
      "text/plain": [
       "(-0.23058161945446387, -0.25748629749030433)"
      ]
     },
     "execution_count": 8,
     "metadata": {},
     "output_type": "execute_result"
    }
   ],
   "source": [
    "game_tg.eps1, game_tg.eps2"
   ]
  },
  {
   "cell_type": "code",
   "execution_count": 9,
   "id": "3a38b67f",
   "metadata": {},
   "outputs": [
    {
     "data": {
      "text/plain": [
       "[[[0, 0, 1, 0], [0, 0, 1, 0]]]"
      ]
     },
     "execution_count": 9,
     "metadata": {},
     "output_type": "execute_result"
    }
   ],
   "source": [
    "game_tg.NE_theory"
   ]
  },
  {
   "cell_type": "code",
   "execution_count": 10,
   "id": "50ebcad3",
   "metadata": {},
   "outputs": [
    {
     "data": {
      "text/plain": [
       "[(array([0., 0., 1., 0.]), array([0., 0., 1., 0.]))]"
      ]
     },
     "execution_count": 10,
     "metadata": {},
     "output_type": "execute_result"
    }
   ],
   "source": [
    "game_tg.NE_se"
   ]
  },
  {
   "cell_type": "code",
   "execution_count": 13,
   "id": "fd8279c6",
   "metadata": {},
   "outputs": [],
   "source": [
    "T = 10000\n",
    "p_b1 = np.array([0., 0.4, 0.7, 0.])\n",
    "p_b2 = np.array([0., 0.5, 0.3, 0.])\n",
    "eta = 0.1\n",
    "\n",
    "p_b1, p_b2, _, _ = game_tg.run_hedge(T=T, p_b1 = p_b1, p_b2 = p_b2, eta=eta)\n",
    "print(p_b1[-1], p_b2[-1])"
   ]
  },
  {
   "cell_type": "code",
   "execution_count": 15,
   "id": "d6ae491c",
   "metadata": {},
   "outputs": [
    {
     "data": {
      "text/plain": [
       "[(array([0., 0., 1., 0.]), array([0., 0., 1., 0.]))]"
      ]
     },
     "execution_count": 15,
     "metadata": {},
     "output_type": "execute_result"
    }
   ],
   "source": [
    "game_tg.get_closest_elementwise_NE(p_b1[-1], p_b2[-1])"
   ]
  },
  {
   "cell_type": "code",
   "execution_count": 5,
   "id": "be5d065a",
   "metadata": {},
   "outputs": [],
   "source": [
    "# Piecewise uniform\n",
    "gammas = [0.5, 0.6]\n",
    "taus = [1/(2+gamma) for gamma in gammas]\n",
    "puf = PiecewiseUniform()\n",
    "game_puf = GameTrueMatrix2by2(gammas = gammas, taus = taus, dist = puf)"
   ]
  },
  {
   "cell_type": "code",
   "execution_count": 6,
   "id": "f4733c9b",
   "metadata": {},
   "outputs": [
    {
     "data": {
      "text/plain": [
       "[[[0, 1, 0, 0], [0, 0, 1, 0]],\n",
       " [[0, 0, 1, 0], [0, 1, 0, 0]],\n",
       " [[0, 0.08028259473346401, 0.919717405266536, 0],\n",
       "  [0, 0.08028259473346401, 0.919717405266536, 0]]]"
      ]
     },
     "execution_count": 6,
     "metadata": {},
     "output_type": "execute_result"
    }
   ],
   "source": [
    "game_puf.NE_theory"
   ]
  },
  {
   "cell_type": "code",
   "execution_count": 15,
   "id": "0a773ca2",
   "metadata": {},
   "outputs": [
    {
     "data": {
      "text/plain": [
       "[(array([0., 1., 0., 0.]), array([0., 0., 1., 0.])),\n",
       " (array([0., 0., 1., 0.]), array([0., 1., 0., 0.])),\n",
       " (array([0.        , 0.08028259, 0.91971741, 0.        ]),\n",
       "  array([0.        , 0.08028259, 0.91971741, 0.        ]))]"
      ]
     },
     "execution_count": 15,
     "metadata": {},
     "output_type": "execute_result"
    }
   ],
   "source": [
    "game_puf.NE_se"
   ]
  },
  {
   "cell_type": "code",
   "execution_count": 30,
   "id": "49405945",
   "metadata": {},
   "outputs": [],
   "source": [
    "T = 10000\n",
    "\n",
    "\n",
    "p_b1, p_b2, _, _ = game_puf.run_hedge(T=T, p_b1 = p_b1, p_b2 = p_b2, eta=eta)"
   ]
  },
  {
   "cell_type": "code",
   "execution_count": 31,
   "id": "e38cfad5",
   "metadata": {},
   "outputs": [
    {
     "data": {
      "text/plain": [
       "(array([0.        , 0.00119503, 0.99880497, 0.        ]),\n",
       " array([0.        , 0.72071293, 0.27928707, 0.        ]))"
      ]
     },
     "execution_count": 31,
     "metadata": {},
     "output_type": "execute_result"
    }
   ],
   "source": [
    "p_b1[-1], p_b2[-1]"
   ]
  },
  {
   "cell_type": "code",
   "execution_count": 18,
   "id": "61387301",
   "metadata": {},
   "outputs": [
    {
     "data": {
      "text/plain": [
       "((100001, 4),\n",
       " array([0.00000000e+00, 7.22207234e-30, 1.00000000e+00, 0.00000000e+00]),\n",
       " array([0.        , 0.99860184, 0.00139816, 0.        ]))"
      ]
     },
     "execution_count": 18,
     "metadata": {},
     "output_type": "execute_result"
    }
   ],
   "source": [
    "p_b1.shape, p_b1[-1], p_b2[-1]"
   ]
  },
  {
   "cell_type": "code",
   "execution_count": 28,
   "id": "6c6593ae",
   "metadata": {},
   "outputs": [],
   "source": [
    "# game_puf.get_closest_elementwise_NE(p_b1[-1], p_b2[-1])"
   ]
  },
  {
   "cell_type": "markdown",
   "id": "0446e4b6",
   "metadata": {},
   "source": [
    "# PLOTS TODO n = 4 actions\n",
    "\n",
    "1) Known Matrix, Full matrix known\n",
    "\n",
    "\n",
    "Game with n = 4 actions (2 gammas) \n",
    "4 cases for epsilon_1, epsilon_2\n",
    "\n",
    "Dynamics curves, show indifferent to initialization \n",
    "\n",
    "- epsilon_1>0, epsilon_2>0 ; 1 pure NE\n",
    "- epsilon_1<0, epsilon_2<0 1 pure NE\n",
    "- 3 cases for different signs (-,+)\n",
    "- 3 cases for different signs (+, -)\n",
    "\n",
    "---\n",
    "\n",
    "1) Sampled Matrix (Fresh matrix estimated in each round) \n",
    "\n",
    "Game with n = 4 actions (2 gammas) \n",
    "4 cases for epsilon_1, epsilon_2\n",
    "\n",
    "Dynamics curves, show indifferent to initialization \n",
    "\n",
    "- 1 pure NE\n",
    "- 1 pure NE\n",
    "- 3 cases for different signs (-,+)\n",
    "- 3 cases for different signs (+,-)\n",
    " \n",
    "Fraction of convergence plots\n",
    "- Fix distribution, fix gamma (defines an instance of the one-shot game)\n",
    "- For a fixed initilaization, check convergence across randomness in sampling (fresh estimate for A)\n",
    "- Fix distribution, fix gamma, for some fixed initilaization, check distance to NE across randomness in sampling (fresh estimate for A)\n",
    "\n",
    "\n",
    "- For a fixed initilaization, check convergence check convergence across randomness in sampling (moving estimate for A)\n",
    "- Fix distribution, fix gamma, for some fixed initilaization, check distance to NE across randomness in sampling (moving estimate for A)"
   ]
  },
  {
   "cell_type": "code",
   "execution_count": 29,
   "id": "0fbd5435",
   "metadata": {},
   "outputs": [],
   "source": [
    "# PLOTS TODO for larger number of actions\n",
    "\n",
    "vary distribution (fix truncated gaussian some values)\n",
    "precified values of gamma\n",
    "vary initializations"
   ]
  },
  {
   "cell_type": "code",
   "execution_count": null,
   "id": "57143c23",
   "metadata": {},
   "outputs": [],
   "source": []
  }
 ],
 "metadata": {
  "kernelspec": {
   "display_name": "Python (bankgame)",
   "language": "python",
   "name": "bankgame"
  },
  "language_info": {
   "codemirror_mode": {
    "name": "ipython",
    "version": 3
   },
   "file_extension": ".py",
   "mimetype": "text/x-python",
   "name": "python",
   "nbconvert_exporter": "python",
   "pygments_lexer": "ipython3",
   "version": "3.11.11"
  }
 },
 "nbformat": 4,
 "nbformat_minor": 5
}
