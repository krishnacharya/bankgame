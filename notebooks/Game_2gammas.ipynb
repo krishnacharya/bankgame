{
 "cells": [
  {
   "cell_type": "code",
   "execution_count": 3,
   "id": "f24eb0a7",
   "metadata": {},
   "outputs": [],
   "source": [
    "## Truncated Gaussian Distribution"
   ]
  },
  {
   "cell_type": "code",
   "execution_count": 20,
   "id": "12801956",
   "metadata": {},
   "outputs": [],
   "source": [
    "import numpy as np\n",
    "import matplotlib.pyplot as plt\n",
    "import sys\n",
    "sys.path.append('../')\n",
    "from game.Bankgames import *\n",
    "from game.plotting import *\n",
    "from game.distributions import TruncatedGaussian, Uniform, PiecewiseUniform\n",
    "import nashpy as nh"
   ]
  },
  {
   "cell_type": "code",
   "execution_count": 24,
   "id": "8dd8b9ef",
   "metadata": {},
   "outputs": [],
   "source": [
    "# Truncated gaussian\n",
    "tg = TruncatedGaussian()\n",
    "\n",
    "# gammas = [0.5, 0.6]\n",
    "\n",
    "taus = [1/(2+gamma) for gamma in gammas]\n",
    "\n",
    "game_tg = GameTrueMatrix2by2(gammas = gammas, taus = taus, dist = tg)"
   ]
  },
  {
   "cell_type": "code",
   "execution_count": 27,
   "id": "15ad7a3c",
   "metadata": {},
   "outputs": [
    {
     "data": {
      "text/plain": [
       "(-0.23058161945446387, -0.25748629749030433)"
      ]
     },
     "execution_count": 27,
     "metadata": {},
     "output_type": "execute_result"
    }
   ],
   "source": [
    "game_tg.eps1, game_tg.eps2"
   ]
  },
  {
   "cell_type": "code",
   "execution_count": 22,
   "id": "3d7c7622",
   "metadata": {},
   "outputs": [
    {
     "data": {
      "text/plain": [
       "[[[0, 0, 1, 0], [0, 0, 1, 0]]]"
      ]
     },
     "execution_count": 22,
     "metadata": {},
     "output_type": "execute_result"
    }
   ],
   "source": [
    "game_tg.NE_theory"
   ]
  },
  {
   "cell_type": "code",
   "execution_count": 4,
   "id": "02587cb0",
   "metadata": {},
   "outputs": [
    {
     "data": {
      "text/plain": [
       "[(array([0., 0., 1., 0.]), array([0., 0., 1., 0.]))]"
      ]
     },
     "execution_count": 4,
     "metadata": {},
     "output_type": "execute_result"
    }
   ],
   "source": [
    "game_tg.NE_se"
   ]
  },
  {
   "cell_type": "code",
   "execution_count": 5,
   "id": "aa0e19f7",
   "metadata": {},
   "outputs": [],
   "source": [
    "# Piecewise uniform\n",
    "gammas = [0.5, 0.6]\n",
    "taus = [1/(2+gamma) for gamma in gammas]\n",
    "puf = PiecewiseUniform()\n",
    "\n",
    "game_puf = GameTrueMatrix2by2(gammas = gammas, taus = taus, dist = puf)"
   ]
  },
  {
   "cell_type": "code",
   "execution_count": 6,
   "id": "8f7268e4",
   "metadata": {},
   "outputs": [
    {
     "data": {
      "text/plain": [
       "[[[0, 1, 0, 0], [0, 0, 1, 0]],\n",
       " [[0, 0, 1, 0], [0, 1, 0, 0]],\n",
       " [[0, 0.08028259473346401, 0.919717405266536, 0],\n",
       "  [0, 0.08028259473346401, 0.919717405266536, 0]]]"
      ]
     },
     "execution_count": 6,
     "metadata": {},
     "output_type": "execute_result"
    }
   ],
   "source": [
    "game_puf.NE_theory"
   ]
  },
  {
   "cell_type": "code",
   "execution_count": 15,
   "id": "16d566a3",
   "metadata": {},
   "outputs": [
    {
     "data": {
      "text/plain": [
       "[(array([0., 1., 0., 0.]), array([0., 0., 1., 0.])),\n",
       " (array([0., 0., 1., 0.]), array([0., 1., 0., 0.])),\n",
       " (array([0.        , 0.08028259, 0.91971741, 0.        ]),\n",
       "  array([0.        , 0.08028259, 0.91971741, 0.        ]))]"
      ]
     },
     "execution_count": 15,
     "metadata": {},
     "output_type": "execute_result"
    }
   ],
   "source": [
    "game_puf.NE_se"
   ]
  },
  {
   "cell_type": "code",
   "execution_count": 17,
   "id": "afb4067c",
   "metadata": {},
   "outputs": [],
   "source": [
    "T = 100000\n",
    "p_b1 = np.array([0., 0.1, 0.9, 0.])\n",
    "p_b2 = np.array([0., 0.5, 0.3, 0.])\n",
    "eta = 0.1\n",
    "\n",
    "p_b1, p_b2, _, _ = game_puf.run_hedge(T=T, p_b1 = p_b1, p_b2 = p_b2, eta=eta)"
   ]
  },
  {
   "cell_type": "code",
   "execution_count": 18,
   "id": "987185e8",
   "metadata": {},
   "outputs": [
    {
     "data": {
      "text/plain": [
       "((100001, 4),\n",
       " array([0.00000000e+00, 7.22207234e-30, 1.00000000e+00, 0.00000000e+00]),\n",
       " array([0.        , 0.99860184, 0.00139816, 0.        ]))"
      ]
     },
     "execution_count": 18,
     "metadata": {},
     "output_type": "execute_result"
    }
   ],
   "source": [
    "p_b1.shape, p_b1[-1], p_b2[-1]"
   ]
  },
  {
   "cell_type": "code",
   "execution_count": 28,
   "id": "9750ea49",
   "metadata": {},
   "outputs": [],
   "source": [
    "# game_puf.get_closest_elementwise_NE(p_b1[-1], p_b2[-1])"
   ]
  },
  {
   "cell_type": "markdown",
   "id": "c07b5bbd",
   "metadata": {},
   "source": [
    "# PLOTS TODO n = 4 actions\n",
    "\n",
    "1) Known Matrix, Full matrix known\n",
    "\n",
    "\n",
    "Game with n = 4 actions (2 gammas) \n",
    "4 cases for epsilon_1, epsilon_2\n",
    "\n",
    "Dynamics curves, show indifferent to initialization \n",
    "\n",
    "- epsilon_1>0, epsilon_2>0 ; 1 pure NE\n",
    "- epsilon_1<0, epsilon_2<0 1 pure NE\n",
    "- 3 cases for different signs (-,+)\n",
    "- 3 cases for different signs (+, -)\n",
    "\n",
    "---\n",
    "\n",
    "1) Sampled Matrix (Fresh matrix estimated in each round) \n",
    "\n",
    "Game with n = 4 actions (2 gammas) \n",
    "4 cases for epsilon_1, epsilon_2\n",
    "\n",
    "Dynamics curves, show indifferent to initialization \n",
    "\n",
    "- 1 pure NE\n",
    "- 1 pure NE\n",
    "- 3 cases for different signs (-,+)\n",
    "- 3 cases for different signs (+,-)\n",
    " \n",
    "Fraction of convergence plots\n",
    "- Fix distribution, fix gamma (defines an instance of the one-shot game)\n",
    "- For a fixed initilaization, check convergence across randomness in sampling (fresh estimate for A)\n",
    "- Fix distribution, fix gamma, for some fixed initilaization, check distance to NE across randomness in sampling (fresh estimate for A)\n",
    "\n",
    "\n",
    "- For a fixed initilaization, check convergence check convergence across randomness in sampling (moving estimate for A)\n",
    "- Fix distribution, fix gamma, for some fixed initilaization, check distance to NE across randomness in sampling (moving estimate for A)"
   ]
  },
  {
   "cell_type": "code",
   "execution_count": 29,
   "id": "abf2cdc0",
   "metadata": {},
   "outputs": [],
   "source": [
    "# PLOTS TODO for larger number of actions\n",
    "\n",
    "vary distribution (fix truncated gaussian some values)\n",
    "precified values of gamma\n",
    "vary initializations"
   ]
  },
  {
   "cell_type": "code",
   "execution_count": null,
   "id": "7da5e5cd",
   "metadata": {},
   "outputs": [],
   "source": []
  }
 ],
 "metadata": {
  "kernelspec": {
   "display_name": "Python (bankgame)",
   "language": "python",
   "name": "bankgame"
  },
  "language_info": {
   "codemirror_mode": {
    "name": "ipython",
    "version": 3
   },
   "file_extension": ".py",
   "mimetype": "text/x-python",
   "name": "python",
   "nbconvert_exporter": "python",
   "pygments_lexer": "ipython3",
   "version": "3.11.11"
  }
 },
 "nbformat": 4,
 "nbformat_minor": 5
}
