{
 "cells": [
  {
   "cell_type": "code",
   "execution_count": 1,
   "id": "8b31ea1f",
   "metadata": {},
   "outputs": [],
   "source": [
    "import numpy as np\n",
    "import seaborn as sns\n",
    "import matplotlib.pyplot as plt\n",
    "import sys\n",
    "sys.path.append('../')\n",
    "from game.Bankgames import *\n",
    "# from game.plotting import plotsave_game_probability_single\n",
    "from game.distributions import TruncatedGaussian, Uniform, PiecewiseUniform\n",
    "import nashpy as nh\n",
    "from tqdm import tqdm"
   ]
  },
  {
   "cell_type": "code",
   "execution_count": 2,
   "id": "ab668c37",
   "metadata": {},
   "outputs": [],
   "source": [
    "plt.rcParams.update({\n",
    "    \"pgf.texsystem\": \"pdflatex\",\n",
    "    'font.family': 'serif',\n",
    "    'font.size' : 17,                   # Set font size to 11pt\n",
    "    'axes.labelsize': 20,               # -> axis labels\n",
    "    'xtick.labelsize':12,\n",
    "    'ytick.labelsize':12,\n",
    "    'legend.fontsize': 18,\n",
    "    'lines.linewidth':2,\n",
    "    'text.usetex': False,\n",
    "    'pgf.rcfonts': False,\n",
    "})"
   ]
  },
  {
   "cell_type": "code",
   "execution_count": 188,
   "id": "8b660c38",
   "metadata": {},
   "outputs": [],
   "source": [
    "def plot_game_probability2(game_result, save_dir, figsize=(12, 5), file_prefix=''):\n",
    "    \"\"\"\n",
    "    Plots the probability evolution of actions for Bank 1 and Bank 2 and saves them as separate figures.\n",
    "\n",
    "    Parameters:\n",
    "    - game_result (tuple): A single tuple containing (p_b1, p_b2, gammas, taus).\n",
    "      - p_b1 has shape (#rounds, #actions)\n",
    "      - p_b2 has shape (#rounds, #actions)\n",
    "      - gammas and taus define the action pairs\n",
    "    - save_dir (str): Directory where the plots will be saved.\n",
    "    - figsize (tuple): Size of the figure.\n",
    "    \"\"\"\n",
    "    # Unpack the game result\n",
    "    p_b1, p_b2, gammas, taus = game_result\n",
    "    n = len(gammas)\n",
    "    assert len(taus) == n, \"Number of gammas and taus must be equal\"\n",
    "\n",
    "    T, num_actions = p_b1.shape  # Number of time steps and actions\n",
    "    assert num_actions == n * n, \"Mismatch between number of actions and (tau, gamma) pairs\"\n",
    "\n",
    "    time_steps = np.arange(T)  # Time steps\n",
    "    color_map = plt.cm.hsv\n",
    "    colors = [color_map(i / num_actions) for i in range(num_actions)]  # Assign distinct colors\n",
    "\n",
    "    # Create directory if it doesn't exist\n",
    "    os.makedirs(save_dir, exist_ok=True)\n",
    "\n",
    "    # Function to plot and save for a given bank\n",
    "    def plot_and_save(probabilities, title, filename):\n",
    "        plt.figure(figsize=figsize)\n",
    "        for action in range(num_actions):\n",
    "            tau_idx = action // n\n",
    "            gamma_idx = action % n\n",
    "            tau = taus[tau_idx]\n",
    "            gamma = gammas[gamma_idx]\n",
    "\n",
    "            plt.plot(time_steps, probabilities[:, action], \n",
    "                     color=colors[action], \n",
    "                     label=f'(τ={tau:.2f}, γ={gamma:.2f})',\n",
    "                     linewidth=2)\n",
    "            \n",
    "        plt.title(f'{title} weights, {file_prefix}')\n",
    "        plt.xlabel('Round')\n",
    "        plt.ylabel('Probability')\n",
    "        plt.ylim(0, 1)\n",
    "        plt.legend()\n",
    "        plt.grid(True, alpha=0.3)\n",
    "    # Generate and save plots for Bank 1 and Bank 2 separately\n",
    "    plot_and_save(p_b1, \"Bank 1\", f\"{file_prefix}Bank1.pdf\")\n",
    "    plot_and_save(p_b2, \"Bank 2\", f\"{file_prefix}Bank2.pdf\")"
   ]
  },
  {
   "cell_type": "code",
   "execution_count": null,
   "id": "808d2939",
   "metadata": {},
   "outputs": [],
   "source": []
  },
  {
   "cell_type": "code",
   "execution_count": 3,
   "id": "3f1aea84",
   "metadata": {},
   "outputs": [],
   "source": [
    "import os\n",
    "def plotsave_game_probability(game_result, save_dir, figsize=(12, 5), file_prefix=''):\n",
    "    \"\"\"\n",
    "    Plots the probability evolution of actions for Bank 1 and Bank 2 and saves them as separate figures.\n",
    "\n",
    "    Parameters:\n",
    "    - game_result (tuple): A single tuple containing (p_b1, p_b2, gammas, taus).\n",
    "      - p_b1 has shape (#rounds, #actions)\n",
    "      - p_b2 has shape (#rounds, #actions)\n",
    "      - gammas and taus define the action pairs\n",
    "    - save_dir (str): Directory where the plots will be saved.\n",
    "    - figsize (tuple): Size of the figure.\n",
    "    \"\"\"\n",
    "    # Unpack the game result\n",
    "    p_b1, p_b2, gammas, taus = game_result\n",
    "    n = len(gammas)\n",
    "    assert len(taus) == n, \"Number of gammas and taus must be equal\"\n",
    "\n",
    "    T, num_actions = p_b1.shape  # Number of time steps and actions\n",
    "    assert num_actions == n * n, \"Mismatch between number of actions and (tau, gamma) pairs\"\n",
    "\n",
    "    time_steps = np.arange(T)  # Time steps\n",
    "    color_map = plt.cm.hsv\n",
    "    colors = [color_map(i / num_actions) for i in range(num_actions)]  # Assign distinct colors\n",
    "\n",
    "    # Create directory if it doesn't exist\n",
    "    os.makedirs(save_dir, exist_ok=True)\n",
    "\n",
    "    # Function to plot and save for a given bank\n",
    "    def plot_and_save(probabilities, title, filename):\n",
    "        plt.figure(figsize=figsize)\n",
    "        for action in range(num_actions):\n",
    "            tau_idx = action // n\n",
    "            gamma_idx = action % n\n",
    "            tau = taus[tau_idx]\n",
    "            gamma = gammas[gamma_idx]\n",
    "\n",
    "            plt.plot(time_steps, probabilities[:, action], \n",
    "                     color=colors[action], \n",
    "                     label=f'(τ={tau:.2f}, γ={gamma:.2f})',\n",
    "                     linewidth=2)\n",
    "            \n",
    "        plt.title(f'{title} weights, {file_prefix}')\n",
    "        plt.xlabel('Round')\n",
    "        plt.ylabel('Probability')\n",
    "        plt.ylim(0, 1)\n",
    "        plt.legend()\n",
    "        plt.grid(True, alpha=0.3)\n",
    "\n",
    "        # Save the figure\n",
    "        save_path = os.path.join(save_dir, filename)\n",
    "        plt.savefig(save_path, dpi=300, bbox_inches=\"tight\")\n",
    "        plt.close()\n",
    "\n",
    "    # Generate and save plots for Bank 1 and Bank 2 separately\n",
    "    plot_and_save(p_b1, \"Bank 1\", f\"{file_prefix}Bank1.pdf\")\n",
    "    plot_and_save(p_b2, \"Bank 2\", f\"{file_prefix}Bank2.pdf\")"
   ]
  },
  {
   "cell_type": "markdown",
   "id": "0446e4b6",
   "metadata": {},
   "source": [
    "# PLOTS TODO n = 4 actions BELOW\n",
    "\n",
    "1) Known Matrix, Full matrix known\n",
    "\n",
    "\n",
    "Game with n = 4 actions (2 gammas) \n",
    "4 cases for epsilon_1, epsilon_2\n",
    "\n",
    "Dynamics curves, show indifferent to initialization \n",
    "\n",
    "- epsilon_1>0, epsilon_2>0 ; 1 pure NE\n",
    "- epsilon_1<0, epsilon_2<0 1 pure NE\n",
    "- 3 cases for different signs (-,+)\n",
    "- 3 cases for different signs (+, -)\n",
    "\n",
    "---\n",
    "\n",
    "1) Sampled Matrix (Fresh matrix estimated in each round) \n",
    "\n",
    "Game with n = 4 actions (2 gammas)\n",
    "4 cases for epsilon_1, epsilon_2\n",
    "\n",
    "Dynamics curves, show indifferent to initialization \n",
    "\n",
    "- 1 pure NE\n",
    "- 1 pure NE\n",
    "- 3 cases for different signs (-,+)\n",
    "- 3 cases for different signs (+,-)\n",
    " \n",
    "Fraction of convergence plots\n",
    "- Fix distribution, fix gamma (defines an instance of the one-shot game)\n",
    "- For a fixed initilaization, check convergence across randomness in sampling (fresh estimate for A)\n",
    "- Fix distribution, fix gamma, for some fixed initilaization, check distance to NE across randomness in sampling (fresh estimate for A)\n",
    "\n",
    "\n",
    "- For a fixed initilaization, check convergence check convergence across randomness in sampling (moving estimate for A)\n",
    "- Fix distribution, fix gamma, for some fixed initilaization, check distance to NE across randomness in sampling (moving estimate for A)\n",
    "\n",
    "# PLOTS TODO for larger number of actions\n",
    "\n",
    "vary distribution (fix truncated gaussian some values)\n",
    "precified values of gamma\n",
    "vary initializations"
   ]
  },
  {
   "cell_type": "code",
   "execution_count": 4,
   "id": "4eb3312c",
   "metadata": {},
   "outputs": [],
   "source": [
    "T = 10000\n",
    "eta = 0.1\n",
    "p_b1 = np.array([0.25, 0.25, 0.25, 0.25])\n",
    "p_b2 = np.array([0.25, 0.25, 0.25, 0.25])"
   ]
  },
  {
   "cell_type": "markdown",
   "id": "67ceff5b",
   "metadata": {},
   "source": [
    "## Case ++ : epsilon_1 > 0, epsilon_2 > 0, \n",
    "## Using truncgauss here\n",
    "\n",
    "1 pure NE tau_l gamma_h acc to theory, the hedge also converges to it across all 3 matrices"
   ]
  },
  {
   "cell_type": "code",
   "execution_count": 65,
   "id": "b7f04a34",
   "metadata": {},
   "outputs": [
    {
     "name": "stdout",
     "output_type": "stream",
     "text": [
      "0.010332909480748565 0.005169944765989978\n"
     ]
    }
   ],
   "source": [
    "# Case ++\n",
    "gammas = sorted([0.4, 0.8])\n",
    "taus = sorted([1/(2+gamma) for gamma in gammas])\n",
    "mu = 0.3\n",
    "sigma = 0.1\n",
    "tg = TruncatedGaussian(mu = mu, sigma = sigma)\n",
    "gtm = GameTrueMatrix2by2(gammas=gammas, taus=taus, dist=tg)\n",
    "print(gtm.eps1, gtm.eps2) # epsilon1 and epsilon2"
   ]
  },
  {
   "cell_type": "code",
   "execution_count": 66,
   "id": "264bf1b5",
   "metadata": {},
   "outputs": [
    {
     "data": {
      "text/plain": [
       "1"
      ]
     },
     "metadata": {},
     "output_type": "display_data"
    },
    {
     "data": {
      "text/plain": [
       "[[[0, 1, 0, 0], [0, 1, 0, 0]]]"
      ]
     },
     "metadata": {},
     "output_type": "display_data"
    },
    {
     "data": {
      "text/plain": [
       "1"
      ]
     },
     "metadata": {},
     "output_type": "display_data"
    },
    {
     "data": {
      "text/plain": [
       "[(array([0., 1., 0., 0.]), array([0., 1., 0., 0.]))]"
      ]
     },
     "metadata": {},
     "output_type": "display_data"
    }
   ],
   "source": [
    "display(len(gtm.NE_theory), gtm.NE_theory) # this is what theory gives us\n",
    "display(len(gtm.NE_se), gtm.NE_se) \n",
    "# this is from running nashpy directly on the utility matrices, note in nashpy row players strat i.e. B2 appears first"
   ]
  },
  {
   "cell_type": "code",
   "execution_count": 67,
   "id": "8e34da22",
   "metadata": {},
   "outputs": [],
   "source": [
    "save_dir = '../plots/2gamma-dynamics/case++'"
   ]
  },
  {
   "cell_type": "code",
   "execution_count": 68,
   "id": "cdd6072a",
   "metadata": {},
   "outputs": [],
   "source": [
    "# p_b1 = np.array([0.25, 0.25, 0.25, 0.25])\n",
    "# p_b2 = np.array([0.25, 0.25, 0.25, 0.25])\n",
    "\n",
    "p_b1 = np.array([0.1, 0.5, 0.3, 0.1])\n",
    "p_b2 = np.array([0.1, 0.3, 0.5, 0.1])"
   ]
  },
  {
   "cell_type": "code",
   "execution_count": 69,
   "id": "60d8bf1f",
   "metadata": {},
   "outputs": [
    {
     "name": "stdout",
     "output_type": "stream",
     "text": [
      "[4.28244008e-26 9.99999981e-01 5.67743761e-12 1.85963498e-08] [5.92962413e-26 9.99999957e-01 1.31307198e-11 4.30801111e-08]\n"
     ]
    }
   ],
   "source": [
    "# known matrix\n",
    "b1,b2,gammas,taus = gtm.run_hedge(T=T, p_b1=p_b1, p_b2=p_b2, eta=eta)\n",
    "print(b1[-1], b2[-1])"
   ]
  },
  {
   "cell_type": "code",
   "execution_count": 70,
   "id": "623da2fd",
   "metadata": {},
   "outputs": [],
   "source": [
    "plotsave_game_probability((b1,b2,gammas,taus), save_dir, file_prefix='Known-Matrix')\n",
    "# plotsave_game_probability2((b1,b2,gammas,taus), save_dir, file_prefix='Known-Matrix')"
   ]
  },
  {
   "cell_type": "code",
   "execution_count": 71,
   "id": "ea265e6b",
   "metadata": {},
   "outputs": [
    {
     "name": "stdout",
     "output_type": "stream",
     "text": [
      "[9.62995033e-26 9.99999975e-01 1.46505741e-11 2.47188307e-08] [1.31810721e-25 9.99999943e-01 3.34732782e-11 5.72844385e-08]\n"
     ]
    }
   ],
   "source": [
    "gfe = GameFreshEstimate(gammas=gammas, taus=taus, dist=tg, num_samples=1)\n",
    "\n",
    "b1,b2,gammas,taus = gfe.run_hedge(T=T, p_b1=p_b1, p_b2=p_b2, eta=eta)\n",
    "print(b1[-1], b2[-1]) "
   ]
  },
  {
   "cell_type": "code",
   "execution_count": 72,
   "id": "9210a7dd",
   "metadata": {},
   "outputs": [],
   "source": [
    "plotsave_game_probability((b1,b2,gammas,taus), save_dir, file_prefix='Fresh-Estimate')\n",
    "# plotsave_game_probability2((b1,b2,gammas,taus), save_dir, file_prefix='Known-Matrix')"
   ]
  },
  {
   "cell_type": "code",
   "execution_count": 73,
   "id": "1c7bb71f",
   "metadata": {},
   "outputs": [
    {
     "name": "stdout",
     "output_type": "stream",
     "text": [
      "[2.35872558e-26 9.99999985e-01 5.58465565e-12 1.52800480e-08] [3.24805550e-26 9.99999965e-01 1.28423938e-11 3.50858337e-08]\n"
     ]
    }
   ],
   "source": [
    "gma = GameMovingAvg(gammas=gammas, taus=taus, dist=tg, num_samples=1)\n",
    "\n",
    "b1,b2,gammas,taus = gma.run_hedge(T=T, p_b1=p_b1, p_b2=p_b2, eta=eta)\n",
    "print(b1[-1], b2[-1]) \n",
    "# last iterates for Bank1 and Bank2; We end up going to action 3 for both banks i.e. tau_h, gammaa_l\n",
    "# symmetric pure NE"
   ]
  },
  {
   "cell_type": "code",
   "execution_count": 74,
   "id": "824f9a79",
   "metadata": {},
   "outputs": [],
   "source": [
    "plotsave_game_probability((b1,b2,gammas,taus), save_dir, file_prefix='Moving-Estimate')\n",
    "# plotsave_game_probability2((b1,b2,gammas,taus), save_dir, file_prefix='Known-Matrix')"
   ]
  },
  {
   "cell_type": "markdown",
   "id": "47637931",
   "metadata": {},
   "source": [
    "## Case --\n",
    "1 pure NE tau_h, gamma_l"
   ]
  },
  {
   "cell_type": "code",
   "execution_count": 76,
   "id": "ea3643ea",
   "metadata": {},
   "outputs": [],
   "source": [
    "# p_b1 = np.array([0.25, 0.25, 0.25, 0.25])\n",
    "# p_b2 = np.array([0.25, 0.25, 0.25, 0.25])\n",
    "\n",
    "p_b1 = np.array([0.1, 0.5, 0.3, 0.1])\n",
    "p_b2 = np.array([0.1, 0.3, 0.5, 0.1])"
   ]
  },
  {
   "cell_type": "code",
   "execution_count": 77,
   "id": "0df0a31b",
   "metadata": {},
   "outputs": [
    {
     "name": "stdout",
     "output_type": "stream",
     "text": [
      "-0.011946914670527095 -0.03468944104610684\n"
     ]
    }
   ],
   "source": [
    "gammas = sorted([0.4, 0.8])\n",
    "taus = sorted([1/(2+gamma) for gamma in gammas])\n",
    "mu = 0.1\n",
    "sigma = 0.3\n",
    "tg = TruncatedGaussian(mu = mu, sigma = sigma)\n",
    "gtm = GameTrueMatrix2by2(gammas=gammas, taus=taus, dist=tg)\n",
    "print(gtm.eps1, gtm.eps2) # epsilon1<0 and epsilon2<0"
   ]
  },
  {
   "cell_type": "code",
   "execution_count": 78,
   "id": "3d65855b",
   "metadata": {},
   "outputs": [
    {
     "data": {
      "text/plain": [
       "1"
      ]
     },
     "metadata": {},
     "output_type": "display_data"
    },
    {
     "data": {
      "text/plain": [
       "[[[0, 0, 1, 0], [0, 0, 1, 0]]]"
      ]
     },
     "metadata": {},
     "output_type": "display_data"
    },
    {
     "data": {
      "text/plain": [
       "1"
      ]
     },
     "metadata": {},
     "output_type": "display_data"
    },
    {
     "data": {
      "text/plain": [
       "[(array([0., 0., 1., 0.]), array([0., 0., 1., 0.]))]"
      ]
     },
     "metadata": {},
     "output_type": "display_data"
    }
   ],
   "source": [
    "display(len(gtm.NE_theory), gtm.NE_theory) # this is what theory gives us\n",
    "display(len(gtm.NE_se), gtm.NE_se) \n",
    "# this is from running nashpy directly on the utility matrices, note in nashpy row players strat i.e. B2 appears first"
   ]
  },
  {
   "cell_type": "code",
   "execution_count": 79,
   "id": "683e0304",
   "metadata": {},
   "outputs": [],
   "source": [
    "save_dir = '../plots/2gamma-dynamics/case--'"
   ]
  },
  {
   "cell_type": "code",
   "execution_count": 80,
   "id": "1f4e3ff3",
   "metadata": {},
   "outputs": [
    {
     "name": "stdout",
     "output_type": "stream",
     "text": [
      "[1.55478040e-07 4.63821239e-38 9.99999845e-01 1.24616764e-45] [9.72597673e-08 2.00924702e-38 9.99999903e-01 1.02420667e-45]\n"
     ]
    }
   ],
   "source": [
    "# known matrix\n",
    "b1,b2,gammas,taus = gtm.run_hedge(T=T, p_b1=p_b1, p_b2=p_b2, eta=eta)\n",
    "print(b1[-1], b2[-1])"
   ]
  },
  {
   "cell_type": "code",
   "execution_count": 81,
   "id": "99b5719a",
   "metadata": {},
   "outputs": [],
   "source": [
    "plotsave_game_probability((b1,b2,gammas,taus), save_dir, file_prefix='Known-Matrix')"
   ]
  },
  {
   "cell_type": "code",
   "execution_count": 82,
   "id": "10403dc2",
   "metadata": {},
   "outputs": [
    {
     "name": "stdout",
     "output_type": "stream",
     "text": [
      "[8.42053935e-08 3.06959560e-38 9.99999916e-01 5.24177390e-46] [5.27947744e-08 1.34233831e-38 9.99999947e-01 4.38818102e-46]\n"
     ]
    }
   ],
   "source": [
    "gfe = GameFreshEstimate(gammas=gammas, taus=taus, dist=tg, num_samples=1)\n",
    "\n",
    "b1,b2,gammas,taus = gfe.run_hedge(T=T, p_b1=p_b1, p_b2=p_b2, eta=eta)\n",
    "print(b1[-1], b2[-1]) \n",
    "# last iterates for Bank1 and Bank2; We end up going to action 3 for both banks i.e. tau_h, gammaa_l\n",
    "# symmetric pure NE"
   ]
  },
  {
   "cell_type": "code",
   "execution_count": 83,
   "id": "df8dc456",
   "metadata": {},
   "outputs": [],
   "source": [
    "plotsave_game_probability((b1,b2,gammas,taus), save_dir, file_prefix='Fresh-Estimate')"
   ]
  },
  {
   "cell_type": "code",
   "execution_count": 84,
   "id": "5d2da214",
   "metadata": {},
   "outputs": [
    {
     "name": "stdout",
     "output_type": "stream",
     "text": [
      "[1.85745055e-07 5.55041364e-39 9.99999814e-01 2.54219989e-46] [1.16302122e-07 2.45635459e-39 9.99999884e-01 2.12238621e-46]\n"
     ]
    }
   ],
   "source": [
    "gma = GameMovingAvg(gammas=gammas, taus=taus, dist=tg, num_samples=1)\n",
    "\n",
    "b1,b2,gammas,taus = gma.run_hedge(T=T, p_b1=p_b1, p_b2=p_b2, eta=eta)\n",
    "print(b1[-1], b2[-1]) \n",
    "# last iterates for Bank1 and Bank2; We end up going to action 3 for both banks i.e. tau_h, gammaa_l\n",
    "# symmetric pure NE"
   ]
  },
  {
   "cell_type": "code",
   "execution_count": 85,
   "id": "8e6bc62f",
   "metadata": {},
   "outputs": [],
   "source": [
    "plotsave_game_probability((b1,b2,gammas,taus), save_dir, file_prefix='Moving-Estimate')"
   ]
  },
  {
   "cell_type": "markdown",
   "id": "33af27cf",
   "metadata": {},
   "source": [
    "## Case +-"
   ]
  },
  {
   "cell_type": "code",
   "execution_count": 86,
   "id": "2dea7213",
   "metadata": {},
   "outputs": [
    {
     "name": "stdout",
     "output_type": "stream",
     "text": [
      "0.0022268793930812734 -0.0036150576433734713\n"
     ]
    }
   ],
   "source": [
    "T = 25000\n",
    "gammas = sorted([0.4, 0.8])\n",
    "taus = sorted([1/(2+gamma) for gamma in gammas])\n",
    "mu = 0.1\n",
    "sigma = 0.2\n",
    "tg = TruncatedGaussian(mu = mu, sigma = sigma)\n",
    "gtm = GameTrueMatrix2by2(gammas=gammas, taus=taus, dist=tg)\n",
    "print(gtm.eps1, gtm.eps2) # epsilon1 and epsilon2"
   ]
  },
  {
   "cell_type": "code",
   "execution_count": 87,
   "id": "8a5310f5",
   "metadata": {},
   "outputs": [
    {
     "data": {
      "text/plain": [
       "3"
      ]
     },
     "metadata": {},
     "output_type": "display_data"
    },
    {
     "data": {
      "text/plain": [
       "[[[0, 0, 1, 0], [0, 0, 1, 0]],\n",
       " [[0, 1, 0, 0], [0, 1, 0, 0]],\n",
       " [[0, 0.6188114696914494, 0.3811885303085506, 0],\n",
       "  [0, 0.6188114696914494, 0.3811885303085506, 0]]]"
      ]
     },
     "metadata": {},
     "output_type": "display_data"
    },
    {
     "data": {
      "text/plain": [
       "3"
      ]
     },
     "metadata": {},
     "output_type": "display_data"
    },
    {
     "data": {
      "text/plain": [
       "[(array([0., 1., 0., 0.]), array([0., 1., 0., 0.])),\n",
       " (array([0., 0., 1., 0.]), array([0., 0., 1., 0.])),\n",
       " (array([0.        , 0.61881147, 0.38118853, 0.        ]),\n",
       "  array([0.        , 0.61881147, 0.38118853, 0.        ]))]"
      ]
     },
     "metadata": {},
     "output_type": "display_data"
    }
   ],
   "source": [
    "display(len(gtm.NE_theory), gtm.NE_theory) # this is what theory gives us\n",
    "display(len(gtm.NE_se), gtm.NE_se) \n",
    "# this is from running nashpy directly on the utility matrices, note in nashpy row players strat i.e. B2 appears first"
   ]
  },
  {
   "cell_type": "code",
   "execution_count": 88,
   "id": "dfba1ecf",
   "metadata": {},
   "outputs": [],
   "source": [
    "save_dir = '../plots/2gamma-dynamics/case+-'"
   ]
  },
  {
   "cell_type": "code",
   "execution_count": 96,
   "id": "01231d30",
   "metadata": {},
   "outputs": [],
   "source": [
    "p_b1 = np.array([0.25, 0.25, 0.25, 0.25])\n",
    "p_b2 = np.array([0.25, 0.25, 0.25, 0.25])\n",
    "\n",
    "# p_b1 = np.array([0.1, 0.5, 0.3, 0.1])\n",
    "# p_b2 = np.array([0.1, 0.3, 0.5, 0.1])"
   ]
  },
  {
   "cell_type": "code",
   "execution_count": 97,
   "id": "d0109a8b",
   "metadata": {},
   "outputs": [
    {
     "name": "stdout",
     "output_type": "stream",
     "text": [
      "[9.51602307e-06 8.04533942e-04 9.99185934e-01 1.64899809e-08] [9.51602307e-06 8.04533942e-04 9.99185934e-01 1.64899809e-08]\n"
     ]
    }
   ],
   "source": [
    "b1,b2,gammas,taus = gtm.run_hedge(T=T, p_b1=p_b1, p_b2=p_b2, eta=eta)\n",
    "print(b1[-1], b2[-1])"
   ]
  },
  {
   "cell_type": "code",
   "execution_count": 98,
   "id": "9fb16637",
   "metadata": {},
   "outputs": [],
   "source": [
    "plotsave_game_probability((b1,b2,gammas,taus), save_dir, file_prefix='Known-Matrix')"
   ]
  },
  {
   "cell_type": "code",
   "execution_count": 99,
   "id": "20e7a751",
   "metadata": {},
   "outputs": [
    {
     "name": "stdout",
     "output_type": "stream",
     "text": [
      "[7.38377762e-06 8.09517250e-04 9.99183079e-01 2.03430957e-08] [7.38377762e-06 8.09517250e-04 9.99183079e-01 2.03430957e-08]\n"
     ]
    }
   ],
   "source": [
    "gfe = GameFreshEstimate(gammas=gammas, taus=taus, dist=tg, num_samples=1)\n",
    "\n",
    "b1,b2,gammas,taus = gfe.run_hedge(T=T, p_b1=p_b1, p_b2=p_b2, eta=eta)\n",
    "print(b1[-1], b2[-1]) \n",
    "# last iterates for Bank1 and Bank2; We end up going to action 3 for both banks i.e. tau_h, gammaa_l\n",
    "# symmetric pure NE"
   ]
  },
  {
   "cell_type": "code",
   "execution_count": 100,
   "id": "780d2df8",
   "metadata": {},
   "outputs": [],
   "source": [
    "plotsave_game_probability((b1,b2,gammas,taus), save_dir, file_prefix='Fresh-Estimate')"
   ]
  },
  {
   "cell_type": "code",
   "execution_count": 101,
   "id": "1ba39e9e",
   "metadata": {},
   "outputs": [
    {
     "name": "stdout",
     "output_type": "stream",
     "text": [
      "[1.02876048e-05 1.30545691e-03 9.98684209e-01 4.63214052e-08] [1.02876048e-05 1.30545691e-03 9.98684209e-01 4.63214052e-08]\n"
     ]
    }
   ],
   "source": [
    "gma = GameMovingAvg(gammas=gammas, taus=taus, dist=tg, num_samples=1)\n",
    "\n",
    "b1,b2,gammas,taus = gma.run_hedge(T=T, p_b1=p_b1, p_b2=p_b2, eta=eta)\n",
    "print(b1[-1], b2[-1]) \n",
    "# last iterates for Bank1 and Bank2; We end up going to action 3 for both banks i.e. tau_h, gammaa_l\n",
    "# symmetric pure NE"
   ]
  },
  {
   "cell_type": "code",
   "execution_count": 102,
   "id": "8286bbba",
   "metadata": {},
   "outputs": [],
   "source": [
    "plotsave_game_probability((b1,b2,gammas,taus), save_dir, file_prefix='Moving-Estimate')"
   ]
  },
  {
   "cell_type": "markdown",
   "id": "090a6594",
   "metadata": {},
   "source": [
    "## Case  -+"
   ]
  },
  {
   "cell_type": "code",
   "execution_count": 108,
   "id": "32699f12",
   "metadata": {},
   "outputs": [
    {
     "data": {
      "text/plain": [
       "25000"
      ]
     },
     "execution_count": 108,
     "metadata": {},
     "output_type": "execute_result"
    }
   ],
   "source": [
    "T"
   ]
  },
  {
   "cell_type": "code",
   "execution_count": 109,
   "id": "65cf620d",
   "metadata": {},
   "outputs": [
    {
     "data": {
      "text/plain": [
       "(-0.005480769254716564, 0.002269230769230711)"
      ]
     },
     "execution_count": 109,
     "metadata": {},
     "output_type": "execute_result"
    }
   ],
   "source": [
    "gammas = gammas = sorted([0.6, 0.7])\n",
    "taus = sorted([1/(2+gamma) for gamma in gammas])\n",
    "puf = PiecewiseUniform(ga_l = gammas[0], ga_h = gammas[1]) #needs exactly these gamma_l and high values\n",
    "gtm = GameTrueMatrix2by2(gammas=gammas, taus=taus, dist=puf)\n",
    "\n",
    "gtm.eps1,gtm.eps2"
   ]
  },
  {
   "cell_type": "code",
   "execution_count": 110,
   "id": "80becada",
   "metadata": {},
   "outputs": [
    {
     "data": {
      "text/plain": [
       "3"
      ]
     },
     "metadata": {},
     "output_type": "display_data"
    },
    {
     "data": {
      "text/plain": [
       "[[[0, 1, 0, 0], [0, 0, 1, 0]],\n",
       " [[0, 0, 1, 0], [0, 1, 0, 0]],\n",
       " [[0, 0.2928039702233183, 0.7071960297766817, 0],\n",
       "  [0, 0.2928039702233183, 0.7071960297766817, 0]]]"
      ]
     },
     "metadata": {},
     "output_type": "display_data"
    },
    {
     "data": {
      "text/plain": [
       "3"
      ]
     },
     "metadata": {},
     "output_type": "display_data"
    },
    {
     "data": {
      "text/plain": [
       "[(array([0., 1., 0., 0.]), array([0., 0., 1., 0.])),\n",
       " (array([0., 0., 1., 0.]), array([0., 1., 0., 0.])),\n",
       " (array([0.        , 0.29280397, 0.70719603, 0.        ]),\n",
       "  array([0.        , 0.29280397, 0.70719603, 0.        ]))]"
      ]
     },
     "metadata": {},
     "output_type": "display_data"
    }
   ],
   "source": [
    "display(len(gtm.NE_theory), gtm.NE_theory) # this is what theory gives us\n",
    "display(len(gtm.NE_se), gtm.NE_se) \n",
    "# this is from running nashpy directly on the utility matrices, note in nashpy row players strat i.e. B2 appears first"
   ]
  },
  {
   "cell_type": "code",
   "execution_count": 156,
   "id": "a714bb34",
   "metadata": {},
   "outputs": [],
   "source": [
    "T = 50000\n",
    "p_b1 = np.array([0.25, 0.25, 0.25, 0.25])\n",
    "p_b2 = np.array([0.25, 0.25, 0.25, 0.25])\n",
    "\n",
    "# p_b1 = np.array([0.1, 0.5, 0.3, 0.1])\n",
    "# p_b2 = np.array([0.1, 0.3, 0.5, 0.1])"
   ]
  },
  {
   "cell_type": "code",
   "execution_count": 148,
   "id": "73cdd396",
   "metadata": {},
   "outputs": [],
   "source": [
    "# p_b1 = np.array([0.25, 0.25, 0.25, 0.25])\n",
    "# p_b2 = np.array([0.25, 0.25, 0.25, 0.25])"
   ]
  },
  {
   "cell_type": "code",
   "execution_count": 157,
   "id": "af04d3e5",
   "metadata": {},
   "outputs": [],
   "source": [
    "save_dir = '../plots/2gamma-dynamics/case-+'"
   ]
  },
  {
   "cell_type": "code",
   "execution_count": 158,
   "id": "84013ad3",
   "metadata": {},
   "outputs": [
    {
     "name": "stdout",
     "output_type": "stream",
     "text": [
      "[5.43117797e-39 2.92841965e-01 7.07158035e-01 1.09580971e-34] [5.43117797e-39 2.92841965e-01 7.07158035e-01 1.09580971e-34]\n"
     ]
    }
   ],
   "source": [
    "# run hedge on known matrix\n",
    "b1,b2,gammas,taus = gtm.run_hedge(T=T, p_b1=p_b1, p_b2=p_b2, eta=eta)\n",
    "print(b1[-1], b2[-1])"
   ]
  },
  {
   "cell_type": "code",
   "execution_count": 159,
   "id": "8e1d6662",
   "metadata": {},
   "outputs": [],
   "source": [
    "plotsave_game_probability((b1,b2,gammas,taus), save_dir, file_prefix='Known-Matrix')"
   ]
  },
  {
   "cell_type": "code",
   "execution_count": 160,
   "id": "3fdd8dc4",
   "metadata": {},
   "outputs": [
    {
     "name": "stdout",
     "output_type": "stream",
     "text": [
      "[3.92648214e-39 3.18482530e-01 6.81517470e-01 2.29815731e-34] [3.92648214e-39 3.18482530e-01 6.81517470e-01 2.29815731e-34]\n"
     ]
    }
   ],
   "source": [
    "gfe = GameFreshEstimate(gammas=gammas, taus=taus, dist=puf, num_samples=1)\n",
    "\n",
    "b1,b2,gammas,taus = gfe.run_hedge(T=T, p_b1=p_b1, p_b2=p_b2, eta=eta)\n",
    "print(b1[-1], b2[-1]) "
   ]
  },
  {
   "cell_type": "code",
   "execution_count": 161,
   "id": "eb941113",
   "metadata": {},
   "outputs": [],
   "source": [
    "plotsave_game_probability((b1,b2,gammas,taus), save_dir, file_prefix='Fresh-Estimate')"
   ]
  },
  {
   "cell_type": "code",
   "execution_count": 162,
   "id": "03e95f15",
   "metadata": {},
   "outputs": [
    {
     "name": "stdout",
     "output_type": "stream",
     "text": [
      "[7.17028467e-39 2.93465896e-01 7.06534104e-01 6.89442622e-33] [7.17028467e-39 2.93465896e-01 7.06534104e-01 6.89442622e-33]\n"
     ]
    }
   ],
   "source": [
    "gma = GameMovingAvg(gammas=gammas, taus=taus, dist=puf, num_samples=1)\n",
    "\n",
    "b1,b2,gammas,taus = gma.run_hedge(T=T, p_b1=p_b1, p_b2=p_b2, eta=eta)\n",
    "print(b1[-1], b2[-1]) \n",
    "# last iterates for Bank1 and Bank2; We end up going to action 3 for both banks i.e. tau_h, gammaa_l\n",
    "# symmetric pure NE"
   ]
  },
  {
   "cell_type": "code",
   "execution_count": 163,
   "id": "164ebdcc",
   "metadata": {},
   "outputs": [],
   "source": [
    "plotsave_game_probability((b1,b2,gammas,taus), save_dir, file_prefix='Moving-Estimate')"
   ]
  },
  {
   "cell_type": "code",
   "execution_count": 248,
   "id": "c9134b9c",
   "metadata": {},
   "outputs": [
    {
     "data": {
      "image/png": "[encoded data removed]",
      "text/plain": [
       "<Figure size 800x500 with 1 Axes>"
      ]
     },
     "metadata": {},
     "output_type": "display_data"
    }
   ],
   "source": [
    "# @all ignore this block it was to check the sampling correctness with the actual probability, which is now fixed\n",
    "\n",
    "def plot_empirical_pdf(samples, piecewise_uniform_pdf, tau_l, tau_h, bins=50, density=True):\n",
    "    plt.figure(figsize=(8, 5))\n",
    "    sns.histplot(samples, bins=bins, kde=False, stat=\"density\", alpha=0.6, color='b', edgecolor='black')\n",
    "    sns.kdeplot(samples, color='r', linewidth=2, label='KDE Estimate')\n",
    "    \n",
    "    # Plot piecewise uniform PDF\n",
    "    \n",
    "    y_values = np.linspace(0, 1, 1000)\n",
    "    pdf_values = [piecewise_uniform_pdf(y, tau_l, tau_h) for y in y_values]\n",
    "    plt.plot(y_values, pdf_values, color='g', linestyle='--', linewidth=2, label='Piecewise Uniform PDF') # true\n",
    "    \n",
    "    plt.xlabel('Value')\n",
    "    plt.ylabel('Density')\n",
    "    plt.title('Empirical PDF with Piecewise Uniform PDF')\n",
    "    plt.legend()\n",
    "    plt.grid(True)\n",
    "    plt.show()\n",
    "\n",
    "# Define piecewise uniform PDF function\n",
    "def piecewise_uniform_pdf(y, tau_l, tau_h):\n",
    "    if 0 <= y < tau_l:\n",
    "        return 0.01 / tau_l\n",
    "    elif tau_l <= y < tau_h:\n",
    "        return 0.95 / (tau_h - tau_l)\n",
    "    elif tau_h <= y <= 1:\n",
    "        return 0.04 / (1 - tau_h)\n",
    "    else:\n",
    "        return 0\n",
    "\n",
    "gammas = sorted([0.1, 0.6])\n",
    "taus = sorted([1/(2+gamma) for gamma in gammas])\n",
    "puf = PiecewiseUniform(ga_l = gammas[0], ga_h = gammas[1]) #needs exactly these gamma_l and high values\n",
    "gtm = GameTrueMatrix2by2(gammas=gammas, taus=taus, dist=puf)\n",
    "\n",
    "tau_l, tau_h = taus\n",
    "samples = puf.get_samples(100000)\n",
    "\n",
    "      \n",
    "# Assuming arr contains the samples\n",
    "plot_empirical_pdf(samples, piecewise_uniform_pdf, tau_l, tau_h)"
   ]
  },
  {
   "cell_type": "code",
   "execution_count": 164,
   "id": "bc6a7392",
   "metadata": {},
   "outputs": [],
   "source": [
    "# investigating the +- case more for initialization dependence "
   ]
  },
  {
   "cell_type": "code",
   "execution_count": 239,
   "id": "3257a891",
   "metadata": {},
   "outputs": [],
   "source": [
    "# mu, sigma = 0.4, 0.1\n",
    "# mu, sigma = 0.2, 0.2\n",
    "mu, sigma = 0.1, 0.2\n",
    "gamma_l, gamma_h = 0.4, 0.8\n",
    "taus = sorted([1 / (2 + gamma) for gamma in [gamma_l, gamma_h]])"
   ]
  },
  {
   "cell_type": "code",
   "execution_count": 240,
   "id": "d1b51711",
   "metadata": {},
   "outputs": [],
   "source": [
    "tg = TruncatedGaussian(mu=mu, sigma=sigma)\n",
    "gtm = GameTrueMatrix2by2(gammas=[gamma_l, gamma_h], taus=taus, dist=tg)"
   ]
  },
  {
   "cell_type": "code",
   "execution_count": 241,
   "id": "87e0b045",
   "metadata": {},
   "outputs": [
    {
     "data": {
      "text/plain": [
       "[(array([0., 1., 0., 0.]), array([0., 1., 0., 0.])),\n",
       " (array([0., 0., 1., 0.]), array([0., 0., 1., 0.])),\n",
       " (array([0.        , 0.61881147, 0.38118853, 0.        ]),\n",
       "  array([0.        , 0.61881147, 0.38118853, 0.        ]))]"
      ]
     },
     "execution_count": 241,
     "metadata": {},
     "output_type": "execute_result"
    }
   ],
   "source": [
    "gtm.NE_se"
   ]
  },
  {
   "cell_type": "code",
   "execution_count": 242,
   "id": "52407fe1",
   "metadata": {},
   "outputs": [],
   "source": [
    "T = 30000"
   ]
  },
  {
   "cell_type": "code",
   "execution_count": 243,
   "id": "7253d04b",
   "metadata": {},
   "outputs": [
    {
     "data": {
      "text/plain": [
       "'+-'"
      ]
     },
     "execution_count": 243,
     "metadata": {},
     "output_type": "execute_result"
    }
   ],
   "source": [
    "gtm.eps_case"
   ]
  },
  {
   "cell_type": "code",
   "execution_count": 250,
   "id": "ce2e8129",
   "metadata": {},
   "outputs": [],
   "source": [
    "#p_a = np.array([0.0, c-xx, 1-c+xx, 0.])\n",
    "#p_b = np.array([0., c-xx, 1-c+xx, 0.])\n",
    "\n",
    "#p_a = np.array([0.1, 0.8*c, 0.8*(1-c), 0.1])\n",
    "#p_b = np.array([0.1, 0.8*c, 0.8*(1-c), 0.1])\n",
    "\n",
    "#p_a = np.array([1/4-kk, 1/4+xx+kk, 1/4-xx+kk, 1/4-kk])\n",
    "#p_b = np.array([1/4-kk, 1/4-xx+kk, 1/4+xx+kk, 1/4-kk])\n",
    "\n",
    "\n",
    "#p_a = np.array([0.0, 0.001, 0.999, 0.9])\n",
    "#p_b = np.array([0.1, 0.5, 0.3, 0.1])\n",
    "\n",
    "#p_a = np.array([0.0, 0.5001, 0.4999, 0.])\n",
    "#p_b = np.array([0., 0.4999, 0.5001, 0.])\n",
    "\n",
    "#p_a = np.array([0.0, 0.4999, 0.5001, 0.])\n",
    "#p_b = np.array([0., 0.5001, 0.4999, 0.])\n",
    "\n",
    "\n",
    "#p_a = np.array([0.1, 0.7, 0.1, 0.1])\n",
    "#p_b = np.array([0.1, 0.6, 0.2, 0.1])\n",
    "\n",
    "#p_a = np.array([0.1, 0.3, 0.5, 0.1])\n",
    "#p_b = np.array([0.1, c, 1-c, 0.1])\n",
    "\n",
    "#p_a = np.array([1/4, 1/4, 1/4, 1/4])\n",
    "#p_b = np.array([1/4, 1/4, 1/4, 1/4])\n",
    "\n",
    "\n",
    "### bias ini, pure nash convergence\n",
    "# p_a = np.array([0., 0.1, 0.9, 0.])\n",
    "# p_b = np.array([0., 0.1, 0.9, 0.])\n",
    "\n",
    "# init close to the one NE\n",
    "p_a = np.array([0, 0.9, 0.1, 0.])\n",
    "p_b = np.array([0, 0.9, 0.1, 0.])\n",
    "\n",
    "# p_a = np.array([0.        , 0.57806656, 0.42193344, 0.        ])\n",
    "# p_b = np.array([0.        , 0.57806656, 0.42193344, 0.        ])\n",
    "\n",
    "\n",
    "# p_a = np.array([0,0.61881147,0.38118853,0])\n",
    "# p_b = np.array([0,0.61881147,0.38118853,0])\n",
    "            \n",
    "# p_a = np.array([0., 0, 0.95, 0.05])\n",
    "# p_b = np.array([0., 0, 0.95, 0.05])\n",
    "\n",
    "# mixed nash converence\n",
    "# p_a = np.array([0.1, 0.3, 0.5, 0.1])\n",
    "# p_b = np.array([0.1, 0.3, 0.5, 0.1])\n",
    "\n",
    "\n",
    "# p_a = np.array([0., 1/2, 1/2, 0.])\n",
    "# p_b = np.array([0., 1/2, 1/2, 0.])\n",
    "\n",
    "\n",
    "#p_a = np.array([0., c, 1-c, 0.])\n",
    "#p_b = np.array([0., c, 1-c, 0.])"
   ]
  },
  {
   "cell_type": "code",
   "execution_count": 251,
   "id": "e65ccd3e",
   "metadata": {},
   "outputs": [
    {
     "name": "stdout",
     "output_type": "stream",
     "text": [
      "[0.00000000e+00 9.99807822e-01 1.92177795e-04 0.00000000e+00] [0.00000000e+00 9.99807822e-01 1.92177795e-04 0.00000000e+00]\n"
     ]
    }
   ],
   "source": [
    "b1,b2,gammas,taus = gtm.run_hedge(T=T, p_b1=p_a, p_b2=p_b, eta=eta)\n",
    "print(b1[-1], b2[-1])"
   ]
  },
  {
   "cell_type": "code",
   "execution_count": 252,
   "id": "3ceae975",
   "metadata": {},
   "outputs": [
    {
     "data": {
      "image/png": "[encoded data removed]",
      "text/plain": [
       "<Figure size 1200x500 with 1 Axes>"
      ]
     },
     "metadata": {},
     "output_type": "display_data"
    },
    {
     "data": {
      "image/png": "[encoded data removed]",
      "text/plain": [
       "<Figure size 1200x500 with 1 Axes>"
      ]
     },
     "metadata": {},
     "output_type": "display_data"
    }
   ],
   "source": [
    "plot_game_probability2((b1,b2,gammas,taus), save_dir, figsize=(12, 5), file_prefix='')"
   ]
  },
  {
   "cell_type": "code",
   "execution_count": null,
   "id": "6bc24fa1",
   "metadata": {},
   "outputs": [],
   "source": []
  }
 ],
 "metadata": {
  "kernelspec": {
   "display_name": "Python (bankgame)",
   "language": "python",
   "name": "bankgame"
  },
  "language_info": {
   "codemirror_mode": {
    "name": "ipython",
    "version": 3
   },
   "file_extension": ".py",
   "mimetype": "text/x-python",
   "name": "python",
   "nbconvert_exporter": "python",
   "pygments_lexer": "ipython3",
   "version": "3.11.11"
  }
 },
 "nbformat": 4,
 "nbformat_minor": 5
}
