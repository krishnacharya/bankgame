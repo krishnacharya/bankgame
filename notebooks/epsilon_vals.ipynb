{
 "cells": [
  {
   "attachments": {
    "image.png": {
     "image/png": "[encoded data removed]"
    }
   },
   "cell_type": "markdown",
   "id": "dcebfc15",
   "metadata": {},
   "source": [
    "![image.png](attachment:image.png)"
   ]
  },
  {
   "cell_type": "code",
   "execution_count": 1,
   "id": "59529892",
   "metadata": {},
   "outputs": [],
   "source": [
    "import numpy as np\n",
    "import matplotlib.pyplot as plt\n",
    "import sys\n",
    "sys.path.append('../')\n",
    "from game.Bankgames import *\n",
    "from game.plotting import *\n",
    "from game.distributions import TruncatedGaussian\n",
    "import nashpy as nh"
   ]
  },
  {
   "cell_type": "code",
   "execution_count": 2,
   "id": "8145b15d",
   "metadata": {},
   "outputs": [
    {
     "data": {
      "text/plain": [
       "(-0.23058161945446387, -0.25748629749030433)"
      ]
     },
     "execution_count": 2,
     "metadata": {},
     "output_type": "execute_result"
    }
   ],
   "source": [
    "gammas = [0.5, 0.6]\n",
    "taus = [1/(2+gamma) for gamma in gammas]\n",
    "tg = TruncatedGaussian(mu = 0.6, sigma = 0.2)\n",
    "game_tg = GameTrueMatrix2by2(gammas=gammas, taus=taus, dist=tg)\n",
    "game_tg.eps1, game_tg.eps2"
   ]
  },
  {
   "cell_type": "code",
   "execution_count": 3,
   "id": "120ac8df",
   "metadata": {},
   "outputs": [
    {
     "data": {
      "text/plain": [
       "([[[0, 0, 1, 0], [0, 0, 1, 0]]],\n",
       " [(array([0., 0., 1., 0.]), array([0., 0., 1., 0.]))])"
      ]
     },
     "execution_count": 3,
     "metadata": {},
     "output_type": "execute_result"
    }
   ],
   "source": [
    "game_tg.NE_theory, game_tg.NE_se"
   ]
  },
  {
   "cell_type": "code",
   "execution_count": 12,
   "id": "dff60202",
   "metadata": {},
   "outputs": [],
   "source": [
    "gammas = [0.5, 0.6]\n",
    "taus = [1/(2+gamma) for gamma in gammas]\n",
    "tg = TruncatedGaussian(mu = 0.6, sigma = 0.2)\n",
    "pu = PiecewiseUniform()\n",
    "\n",
    "game_tg = GameTrueMatrix(gammas=gammas, taus=taus, dist=tg)\n",
    "game_pu = GameTrueMatrix(gammas=gammas, taus=taus, dist=pu) # has epsilon_1 <0, epsilon_2>0"
   ]
  },
  {
   "cell_type": "code",
   "execution_count": 15,
   "id": "2c3de897",
   "metadata": {},
   "outputs": [
    {
     "name": "stdout",
     "output_type": "stream",
     "text": [
      "[(array([1.43139932e-17, 0.00000000e+00, 1.00000000e+00, 0.00000000e+00]), array([1.43139932e-17, 0.00000000e+00, 1.00000000e+00, 0.00000000e+00]))]\n",
      "[0.00000000e+000 1.68450668e-114 1.00000000e+000 0.00000000e+000] [0.00000000e+000 2.49721045e-112 1.00000000e+000 0.00000000e+000]\n"
     ]
    }
   ],
   "source": [
    "# truncgauss dist\n",
    "print(game_tg.NE_ve)\n",
    "\n",
    "T = 10000\n",
    "eta = 0.1\n",
    "\n",
    "p_b1 = np.array([0., 0.01, 0.99, 0.])\n",
    "p_b2 = np.array([0., 0.5, 0.3, 0.])\n",
    "\n",
    "\n",
    "b1_rec, b2_rec, g,t = game_tg.run_hedge(T=T, p_b1=p_b1, p_b2=p_b2, eta=eta)\n",
    "print(b1_rec[-1], b2_rec[-1])"
   ]
  },
  {
   "cell_type": "code",
   "execution_count": 35,
   "id": "59629a49",
   "metadata": {},
   "outputs": [
    {
     "name": "stdout",
     "output_type": "stream",
     "text": [
      "[1.43139932e-17 0.00000000e+00 1.00000000e+00 0.00000000e+00\n",
      " 1.43139932e-17 0.00000000e+00 1.00000000e+00 0.00000000e+00]\n"
     ]
    }
   ],
   "source": [
    "for b2,b1 in game_tg.NE_ve:\n",
    "  print(np.concatenate((b2, b1)))\n",
    "  "
   ]
  },
  {
   "cell_type": "code",
   "execution_count": 22,
   "id": "9c1ddf3b",
   "metadata": {},
   "outputs": [
    {
     "data": {
      "text/plain": [
       "(array([3.26405569e-17, 1.00000000e+00, 3.26405569e-17, 0.00000000e+00]),\n",
       " array([3.37507799e-17, 5.06261699e-17, 1.00000000e+00, 5.06261699e-17]))"
      ]
     },
     "execution_count": 22,
     "metadata": {},
     "output_type": "execute_result"
    }
   ],
   "source": [
    "game_pu.NE_ve[0]"
   ]
  },
  {
   "cell_type": "code",
   "execution_count": 36,
   "id": "abbc83a5",
   "metadata": {},
   "outputs": [
    {
     "data": {
      "text/plain": [
       "(array([1.76305128e-17, 8.02825947e-02, 9.19717405e-01, 3.52610255e-17]),\n",
       " array([1.76305128e-17, 8.02825947e-02, 9.19717405e-01, 3.52610255e-17]))"
      ]
     },
     "execution_count": 36,
     "metadata": {},
     "output_type": "execute_result"
    }
   ],
   "source": [
    "game_pu.NE_ve[1] # mixed NE"
   ]
  },
  {
   "cell_type": "code",
   "execution_count": 38,
   "id": "a06d8e9f",
   "metadata": {},
   "outputs": [
    {
     "data": {
      "text/plain": [
       "(np.float64(1.7630512763690987e-17),\n",
       " np.float64(0.08028259473346279),\n",
       " np.float64(0.9197174052665371),\n",
       " np.float64(3.5261025527381975e-17))"
      ]
     },
     "execution_count": 38,
     "metadata": {},
     "output_type": "execute_result"
    }
   ],
   "source": [
    "tuple(game_pu.NE_ve[1][0])"
   ]
  },
  {
   "cell_type": "code",
   "execution_count": 25,
   "id": "147af3cc",
   "metadata": {},
   "outputs": [
    {
     "data": {
      "text/plain": [
       "np.float64(0.9999999999999999)"
      ]
     },
     "execution_count": 25,
     "metadata": {},
     "output_type": "execute_result"
    }
   ],
   "source": [
    "game_pu.NE_ve[1][0][1] + game_pu.NE_ve[1][0][2]"
   ]
  },
  {
   "cell_type": "code",
   "execution_count": 24,
   "id": "0850e828",
   "metadata": {},
   "outputs": [
    {
     "data": {
      "text/plain": [
       "(array([3.37507799e-17, 5.06261699e-17, 1.00000000e+00, 5.06261699e-17]),\n",
       " array([3.26405569e-17, 1.00000000e+00, 3.26405569e-17, 0.00000000e+00]))"
      ]
     },
     "execution_count": 24,
     "metadata": {},
     "output_type": "execute_result"
    }
   ],
   "source": [
    "game_pu.NE_ve[2]"
   ]
  },
  {
   "cell_type": "code",
   "execution_count": 28,
   "id": "ab1a3eea",
   "metadata": {},
   "outputs": [
    {
     "name": "stdout",
     "output_type": "stream",
     "text": [
      "[0.00000000e+00 7.22207234e-30 1.00000000e+00 0.00000000e+00] [0.         0.99860184 0.00139816 0.        ]\n"
     ]
    }
   ],
   "source": [
    "# uniform dist\n",
    "# print(game_pu.NE_ve, '\\n')\n",
    "\n",
    "T = 100000\n",
    "eta = 0.1\n",
    "\n",
    "p_b1 = np.array([0., 0.1, 0.9, 0.])\n",
    "p_b2 = np.array([0., 0.5, 0.3, 0.])\n",
    "\n",
    "\n",
    "b1_rec, b2_rec, g,t = game_pu.run_hedge(T=T, p_b1=p_b1, p_b2=p_b2, eta=eta)\n",
    "print(b1_rec[-1], b2_rec[-1])"
   ]
  },
  {
   "cell_type": "code",
   "execution_count": 11,
   "id": "be912ba4",
   "metadata": {},
   "outputs": [
    {
     "data": {
      "text/plain": [
       "(array([0.00000000e+000, 1.68450668e-114, 1.00000000e+000, 0.00000000e+000]),\n",
       " array([0.00000000e+000, 2.49721045e-112, 1.00000000e+000, 0.00000000e+000]))"
      ]
     },
     "execution_count": 11,
     "metadata": {},
     "output_type": "execute_result"
    }
   ],
   "source": [
    "b1_rec[-1], b2_rec[-1]"
   ]
  },
  {
   "cell_type": "code",
   "execution_count": 4,
   "id": "3501c395",
   "metadata": {},
   "outputs": [
    {
     "data": {
      "text/plain": [
       "(-0.007160000000000114, 0.0006250000000000179)"
      ]
     },
     "execution_count": 4,
     "metadata": {},
     "output_type": "execute_result"
    }
   ],
   "source": [
    "gammas = [0.5, 0.6]\n",
    "taus = [1/(2+gamma) for gamma in gammas]\n",
    "puf = PiecewiseUniform()\n",
    "game_puf = GameTrueMatrix2by2(gammas=gammas, taus=taus, dist=puf)\n",
    "game_puf.eps1, game_puf.eps2"
   ]
  },
  {
   "cell_type": "code",
   "execution_count": 5,
   "id": "64c67db7",
   "metadata": {},
   "outputs": [],
   "source": [
    "puf = PiecewiseUniform()\n",
    "\n",
    "c_f = puf.c_f\n",
    "ga_l, ga_h = 0.5, 0.6\n",
    "tau_l, tau_h = 1/2.6, 1/2.5\n",
    "\n",
    "# manually calculated matrix\n",
    "A = np.array([\n",
    "[0.5*c_f(ga_l,tau_l,1), 0.0, 0.5 * c_f(ga_l,tau_h,1), 0.0],\n",
    "[c_f(ga_l, tau_l, 1), 0.5 * c_f(ga_h, tau_l, 1), c_f(ga_l, tau_h, 1), 0.5 * c_f(ga_h, tau_h, 1) ],\n",
    "[c_f(ga_l, tau_l, tau_h)+0.5 * c_f(ga_l, tau_h,1), c_f(ga_h, tau_l, tau_h), 0.5 * c_f(ga_l, tau_h, 1), 0.0 ],\n",
    "[c_f(ga_l, tau_l, 1), c_f(ga_h, tau_l, tau_h) + 0.5*c_f(ga_h, tau_h, 1), c_f(ga_l, tau_h, 1), 0.5*c_f(ga_h, tau_h,1) ]    \n",
    "])"
   ]
  },
  {
   "cell_type": "code",
   "execution_count": 6,
   "id": "54791830",
   "metadata": {},
   "outputs": [
    {
     "data": {
      "text/plain": [
       "array([[0., 0., 0., 0.],\n",
       "       [0., 0., 0., 0.],\n",
       "       [0., 0., 0., 0.],\n",
       "       [0., 0., 0., 0.]])"
      ]
     },
     "execution_count": 6,
     "metadata": {},
     "output_type": "execute_result"
    }
   ],
   "source": [
    "game_puf.A-A"
   ]
  },
  {
   "cell_type": "code",
   "execution_count": 7,
   "id": "299f087c",
   "metadata": {},
   "outputs": [
    {
     "data": {
      "text/plain": [
       "[(array([0., 1., 0., 0.]), array([0., 0., 1., 0.])),\n",
       " (array([0., 0., 1., 0.]), array([0., 1., 0., 0.])),\n",
       " (array([0.        , 0.08028259, 0.91971741, 0.        ]),\n",
       "  array([0.        , 0.08028259, 0.91971741, 0.        ]))]"
      ]
     },
     "execution_count": 7,
     "metadata": {},
     "output_type": "execute_result"
    }
   ],
   "source": [
    "game_puf.NE_se # support enumeration"
   ]
  },
  {
   "cell_type": "code",
   "execution_count": 8,
   "id": "7f38c1c7",
   "metadata": {},
   "outputs": [
    {
     "data": {
      "text/plain": [
       "[[[0, 1, 0, 0], [0, 0, 1, 0]],\n",
       " [[0, 0, 1, 0], [0, 1, 0, 0]],\n",
       " [[0, 0.08028259473346401, 0.919717405266536, 0],\n",
       "  [0, 0.08028259473346401, 0.919717405266536, 0]]]"
      ]
     },
     "execution_count": 8,
     "metadata": {},
     "output_type": "execute_result"
    }
   ],
   "source": [
    "game_puf.NE_theory # guanghui theory"
   ]
  },
  {
   "cell_type": "code",
   "execution_count": null,
   "id": "f2bc6f49",
   "metadata": {},
   "outputs": [],
   "source": []
  },
  {
   "cell_type": "code",
   "execution_count": 2,
   "id": "8f4ab1ed",
   "metadata": {},
   "outputs": [],
   "source": [
    "gammas = [0.5, 0.6, 0.7]\n",
    "taus = [1/(2+gamma) for gamma in gammas]\n",
    "tg = TruncatedGaussian(mu = 0.6, sigma = 0.2)\n",
    "game_tg_n3 = GameTrueMatrix(gammas=gammas, taus=taus, dist=tg)"
   ]
  },
  {
   "cell_type": "code",
   "execution_count": 3,
   "id": "256b3160",
   "metadata": {},
   "outputs": [
    {
     "name": "stdout",
     "output_type": "stream",
     "text": [
      "CPU times: user 107 ms, sys: 10.3 ms, total: 117 ms\n",
      "Wall time: 116 ms\n"
     ]
    },
    {
     "data": {
      "text/plain": [
       "[(array([ 0.00000000e+00, -7.16495037e-18, -7.16495037e-18,  0.00000000e+00,\n",
       "         -7.16495037e-18,  0.00000000e+00,  1.00000000e+00,  0.00000000e+00,\n",
       "         -7.16495037e-18]),\n",
       "  array([ 0.00000000e+00, -7.16495037e-18, -7.16495037e-18,  0.00000000e+00,\n",
       "         -7.16495037e-18,  0.00000000e+00,  1.00000000e+00,  0.00000000e+00,\n",
       "         -7.16495037e-18]))]"
      ]
     },
     "execution_count": 3,
     "metadata": {},
     "output_type": "execute_result"
    }
   ],
   "source": [
    "%%time\n",
    "game_tg_n3.saveget_NE_vertexenum()"
   ]
  },
  {
   "cell_type": "code",
   "execution_count": 4,
   "id": "9a057049",
   "metadata": {},
   "outputs": [
    {
     "name": "stdout",
     "output_type": "stream",
     "text": [
      "CPU times: user 20.6 s, sys: 127 ms, total: 20.8 s\n",
      "Wall time: 21.2 s\n"
     ]
    },
    {
     "data": {
      "text/plain": [
       "[(array([0., 0., 0., 0., 0., 0., 1., 0., 0.]),\n",
       "  array([0., 0., 0., 0., 0., 0., 1., 0., 0.]))]"
      ]
     },
     "execution_count": 4,
     "metadata": {},
     "output_type": "execute_result"
    }
   ],
   "source": [
    "%%time\n",
    "game_tg_n3.saveget_NE_supportenum()"
   ]
  },
  {
   "cell_type": "code",
   "execution_count": null,
   "id": "0e372184",
   "metadata": {},
   "outputs": [],
   "source": [
    "# eps_1 = 0.5 * tg.c_f(gamma_h, tau_l, 1.0) - tg.c_f(gamma_l, tau_h, 1.0)\n",
    "# eps_2 = tg.c_f(gamma_h, tau_l, tau_h) - 0.5 * tg.c_f(gamma_l, tau_h, 1.0)\n",
    "\n",
    "# print(eps_1, eps_2)"
   ]
  },
  {
   "cell_type": "code",
   "execution_count": null,
   "id": "24b71bd6",
   "metadata": {},
   "outputs": [],
   "source": [
    "gammas = [0.1, 0.4]\n",
    "taus = sorted([1/(2+gamma) for gamma in gammas])\n",
    "\n",
    "uf = Uniform()\n",
    "game_uf = GameTrueMatrix2by2(gammas=gammas, taus=taus, dist=uf)\n",
    "game_uf.eps1, game_uf.eps2, game_uf.NE_theory"
   ]
  },
  {
   "cell_type": "code",
   "execution_count": null,
   "id": "306949c4",
   "metadata": {},
   "outputs": [],
   "source": [
    "gammas = [0.5, 0.6]\n",
    "taus = sorted([1/(2+gamma) for gamma in gammas])\n",
    "\n",
    "uf = Uniform()\n",
    "game_uf = GameTrueMatrix2by2(gammas=gammas, taus=taus, dist=uf)\n",
    "game_uf.eps1, game_uf.eps2"
   ]
  },
  {
   "cell_type": "code",
   "execution_count": null,
   "id": "37a614fa",
   "metadata": {},
   "outputs": [],
   "source": [
    "gammas = [0.5, 0.6]\n",
    "taus = sorted([1/(2+gamma) for gamma in gammas])\n",
    "\n",
    "puf = PiecewiseUniform()\n",
    "game_puf = GameTrueMatrix2by2(gammas=gammas, taus=taus, dist=puf)\n",
    "game_puf.eps1, game_puf.eps2"
   ]
  },
  {
   "cell_type": "code",
   "execution_count": null,
   "id": "afc67e77",
   "metadata": {},
   "outputs": [],
   "source": [
    "game_puf.NE_theory"
   ]
  },
  {
   "cell_type": "code",
   "execution_count": null,
   "id": "7270f192",
   "metadata": {},
   "outputs": [],
   "source": [
    "bank_game = nh.Game(game_puf.A.T, game_puf.A)\n",
    "eqs = bank_game.support_enumeration()\n",
    "list(eqs)"
   ]
  },
  {
   "cell_type": "code",
   "execution_count": null,
   "id": "e0e76f4c",
   "metadata": {},
   "outputs": [],
   "source": [
    "def generate_utility_matrix(gammas, taus, c_f):\n",
    "    '''\n",
    "        Return utility matrix for bank1, column index represents bank1's strategy, row index represents bank2's strat\n",
    "        c_f is a function that can do integral tau_a to tau_b of [(2+gamma)y - 1] p(y) dy\n",
    "\n",
    "        action indexing is of the form\n",
    "        gamma_1, (tau_1....tau_n); gamma_2 (tau_1 ...tau_n); ... ; gamma_n (tau_1 ... tau_n)\n",
    "    '''\n",
    "    n = len(gammas)\n",
    "    size = n * n  # Matrix size based on all possible gamma-tau pairs\n",
    "    matrix = np.zeros((size, size))\n",
    "\n",
    "    # Helper function to get index for gamma-tau pair\n",
    "    def get_pair_index(gamma_idx, tau_idx):\n",
    "        return gamma_idx * n + tau_idx\n",
    "\n",
    "    # Iterate through all combinations for both banks\n",
    "    for g1 in range(n):  # Bank 1 gamma\n",
    "        for t1 in range(n):  # Bank 1 tau\n",
    "            for g2 in range(n):  # Bank 2 gamma\n",
    "                for t2 in range(n):  # Bank 2 tau\n",
    "                    row = get_pair_index(t2, g2)  # Bank 2's choice\n",
    "                    col = get_pair_index(t1, g1)  # Bank 1's choice\n",
    "\n",
    "                    tau1 = taus[t1]\n",
    "                    tau2 = taus[t2]\n",
    "\n",
    "                    ga1 = gammas[g1]\n",
    "                    ga2 = gammas[g2]\n",
    "                    print((tau1, ga1), (tau2, ga2), get_pair_index(t1, g1), get_pair_index(t2,g2))\n",
    "                    if tau1 > tau2:\n",
    "                        if ga1 > ga2:  # Higher gamma\n",
    "                            matrix[row, col] = 0\n",
    "                        elif ga1 < ga2:\n",
    "                            matrix[row, col] = c_f(gammas[g1], taus[t1], 1)\n",
    "                        else:\n",
    "                            matrix[row, col] = 0.5 * c_f(gammas[g1], taus[t1], 1)\n",
    "                    elif tau1 == tau2:\n",
    "                        if ga1 > ga2:\n",
    "                            matrix[row, col] = 0\n",
    "                        elif ga1 < ga2:\n",
    "                            matrix[row, col] = c_f(gammas[g1], taus[t1], 1)\n",
    "                        else:\n",
    "                            matrix[row, col] = 0.5 * c_f(gammas[g1], taus[t1], 1)\n",
    "                    elif tau1 < tau2:\n",
    "                        if ga1 > ga2:\n",
    "                            matrix[row, col] = c_f(gammas[g1], taus[t1], taus[t2])\n",
    "                        elif ga1 < ga2:\n",
    "                            matrix[row, col] = c_f(gammas[g1], taus[t1], 1)\n",
    "                        else:\n",
    "                            matrix[row, col] = c_f(gammas[g1], taus[t1], taus[t2]) + 0.5 * c_f(gammas[g1], taus[t2], 1)\n",
    "    return matrix"
   ]
  },
  {
   "cell_type": "code",
   "execution_count": null,
   "id": "654465dd",
   "metadata": {},
   "outputs": [],
   "source": []
  },
  {
   "cell_type": "code",
   "execution_count": null,
   "id": "5e8b9a44",
   "metadata": {},
   "outputs": [],
   "source": []
  }
 ],
 "metadata": {
  "kernelspec": {
   "display_name": "Python (bankgame)",
   "language": "python",
   "name": "bankgame"
  },
  "language_info": {
   "codemirror_mode": {
    "name": "ipython",
    "version": 3
   },
   "file_extension": ".py",
   "mimetype": "text/x-python",
   "name": "python",
   "nbconvert_exporter": "python",
   "pygments_lexer": "ipython3",
   "version": "3.11.11"
  }
 },
 "nbformat": 4,
 "nbformat_minor": 5
}
